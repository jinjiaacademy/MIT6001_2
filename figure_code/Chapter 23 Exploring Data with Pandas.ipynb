{
 "cells": [
  {
   "cell_type": "code",
   "execution_count": 136,
   "id": "hawaiian-certification",
   "metadata": {},
   "outputs": [],
   "source": [
    "import pandas as pd\n",
    "import numpy as np\n",
    "import matplotlib.pyplot as plt"
   ]
  },
  {
   "cell_type": "code",
   "execution_count": 2,
   "id": "bizarre-reserve",
   "metadata": {},
   "outputs": [],
   "source": [
    "wwc = pd.read_csv('wwc2019_q-f.csv')"
   ]
  },
  {
   "cell_type": "code",
   "execution_count": 3,
   "id": "decimal-mileage",
   "metadata": {},
   "outputs": [
    {
     "name": "stdout",
     "output_type": "stream",
     "text": [
      "          Round       Winner  W Goals        Loser  L Goals\n",
      "0      Quarters      England        3       Norway        0\n",
      "1      Quarters          USA        2       France        1\n",
      "2      Quarters  Netherlands        2        Italy        0\n",
      "3      Quarters       Sweden        2      Germany        1\n",
      "4         Semis          USA        2      England        1\n",
      "5         Semis  Netherlands        1       Sweden        0\n",
      "6     3rd Place       Sweden        2      England        1\n",
      "7  Championship          USA        2  Netherlands        0\n"
     ]
    }
   ],
   "source": [
    "print(wwc)"
   ]
  },
  {
   "cell_type": "code",
   "execution_count": 5,
   "id": "united-webcam",
   "metadata": {},
   "outputs": [
    {
     "name": "stdout",
     "output_type": "stream",
     "text": [
      "0\n",
      "1\n",
      "2\n",
      "3\n",
      "4\n",
      "5\n",
      "6\n",
      "7\n"
     ]
    }
   ],
   "source": [
    "for i in wwc.index:\n",
    "    print(i)"
   ]
  },
  {
   "cell_type": "code",
   "execution_count": 6,
   "id": "political-record",
   "metadata": {},
   "outputs": [
    {
     "name": "stdout",
     "output_type": "stream",
     "text": [
      "Round\n",
      "Winner\n",
      "W Goals\n",
      "Loser\n",
      "L Goals\n"
     ]
    }
   ],
   "source": [
    "for c in wwc.columns:\n",
    "    print(c)"
   ]
  },
  {
   "cell_type": "code",
   "execution_count": 7,
   "id": "finite-tissue",
   "metadata": {},
   "outputs": [
    {
     "name": "stdout",
     "output_type": "stream",
     "text": [
      "['Quarters' 'England' 3 'Norway' 0]\n",
      "['Quarters' 'USA' 2 'France' 1]\n",
      "['Quarters' 'Netherlands' 2 'Italy' 0]\n",
      "['Quarters' 'Sweden' 2 'Germany' 1]\n",
      "['Semis' 'USA' 2 'England' 1]\n",
      "['Semis' 'Netherlands' 1 'Sweden' 0]\n",
      "['3rd Place' 'Sweden' 2 'England' 1]\n",
      "['Championship' 'USA' 2 'Netherlands' 0]\n"
     ]
    }
   ],
   "source": [
    "for v in wwc.values:\n",
    "    print(v)"
   ]
  },
  {
   "cell_type": "code",
   "execution_count": 9,
   "id": "introductory-croatia",
   "metadata": {},
   "outputs": [
    {
     "data": {
      "text/plain": [
       "(8, 5)"
      ]
     },
     "execution_count": 9,
     "metadata": {},
     "output_type": "execute_result"
    }
   ],
   "source": [
    "wwc.shape"
   ]
  },
  {
   "cell_type": "code",
   "execution_count": 10,
   "id": "documented-taxation",
   "metadata": {},
   "outputs": [
    {
     "data": {
      "text/html": [
       "<div>\n",
       "<style scoped>\n",
       "    .dataframe tbody tr th:only-of-type {\n",
       "        vertical-align: middle;\n",
       "    }\n",
       "\n",
       "    .dataframe tbody tr th {\n",
       "        vertical-align: top;\n",
       "    }\n",
       "\n",
       "    .dataframe thead th {\n",
       "        text-align: right;\n",
       "    }\n",
       "</style>\n",
       "<table border=\"1\" class=\"dataframe\">\n",
       "  <thead>\n",
       "    <tr style=\"text-align: right;\">\n",
       "      <th></th>\n",
       "    </tr>\n",
       "  </thead>\n",
       "  <tbody>\n",
       "  </tbody>\n",
       "</table>\n",
       "</div>"
      ],
      "text/plain": [
       "Empty DataFrame\n",
       "Columns: []\n",
       "Index: []"
      ]
     },
     "execution_count": 10,
     "metadata": {},
     "output_type": "execute_result"
    }
   ],
   "source": [
    "pd.DataFrame()"
   ]
  },
  {
   "cell_type": "code",
   "execution_count": 11,
   "id": "electrical-underground",
   "metadata": {},
   "outputs": [
    {
     "name": "stdout",
     "output_type": "stream",
     "text": [
      "Empty DataFrame\n",
      "Columns: []\n",
      "Index: []\n"
     ]
    }
   ],
   "source": [
    "print(pd.DataFrame())"
   ]
  },
  {
   "cell_type": "code",
   "execution_count": 13,
   "id": "entertaining-retailer",
   "metadata": {},
   "outputs": [
    {
     "name": "stdout",
     "output_type": "stream",
     "text": [
      "          Round       Winner\n",
      "0         Semis          USA\n",
      "1         Semis  Netherlands\n",
      "2     3rd Place       Sweden\n",
      "3  Championship          USA\n"
     ]
    }
   ],
   "source": [
    "rounds = ['Semis', 'Semis', '3rd Place', 'Championship']\n",
    "teams = ['USA', 'Netherlands', 'Sweden', 'USA']\n",
    "df = pd.DataFrame({'Round':rounds, 'Winner':teams})\n",
    "print(df)"
   ]
  },
  {
   "cell_type": "code",
   "execution_count": 14,
   "id": "alleged-helen",
   "metadata": {},
   "outputs": [],
   "source": [
    "df['W Goals'] = [2, 1, 0, 0]"
   ]
  },
  {
   "cell_type": "code",
   "execution_count": 15,
   "id": "associate-scanner",
   "metadata": {},
   "outputs": [
    {
     "name": "stdout",
     "output_type": "stream",
     "text": [
      "          Round       Winner  W Goals\n",
      "0         Semis          USA        2\n",
      "1         Semis  Netherlands        1\n",
      "2     3rd Place       Sweden        0\n",
      "3  Championship          USA        0\n"
     ]
    }
   ],
   "source": [
    "print(df)"
   ]
  },
  {
   "cell_type": "code",
   "execution_count": 16,
   "id": "signal-miniature",
   "metadata": {},
   "outputs": [
    {
     "name": "stdout",
     "output_type": "stream",
     "text": [
      "          Round  W Goals\n",
      "0         Semis        2\n",
      "1         Semis        1\n",
      "2     3rd Place        0\n",
      "3  Championship        0\n"
     ]
    }
   ],
   "source": [
    "print(df.drop('Winner', axis='columns'))"
   ]
  },
  {
   "cell_type": "code",
   "execution_count": 17,
   "id": "bound-anatomy",
   "metadata": {},
   "outputs": [
    {
     "name": "stdout",
     "output_type": "stream",
     "text": [
      "          Round       Winner  W Goals\n",
      "0         Semis          USA        2\n",
      "1         Semis  Netherlands        1\n",
      "2     3rd Place       Sweden        0\n",
      "3  Championship          USA        0\n"
     ]
    }
   ],
   "source": [
    "print(df)"
   ]
  },
  {
   "cell_type": "code",
   "execution_count": 21,
   "id": "antique-guide",
   "metadata": {},
   "outputs": [
    {
     "name": "stdout",
     "output_type": "stream",
     "text": [
      "          Round       Winner  W Goals\n",
      "0      Quarters      England        3\n",
      "1      Quarters          USA        2\n",
      "2      Quarters   Neterlands        2\n",
      "3      Quarters       Sweden        2\n",
      "0      Quarters      England        3\n",
      "1      Quarters          USA        2\n",
      "2      Quarters   Neterlands        2\n",
      "3      Quarters       Sweden        2\n",
      "0      Quarters      England        3\n",
      "1      Quarters          USA        2\n",
      "2      Quarters   Neterlands        2\n",
      "3      Quarters       Sweden        2\n",
      "0      Quarters      England        3\n",
      "1      Quarters          USA        2\n",
      "2      Quarters   Neterlands        2\n",
      "3      Quarters       Sweden        2\n",
      "0         Semis          USA        2\n",
      "1         Semis  Netherlands        1\n",
      "2     3rd Place       Sweden        0\n",
      "3  Championship          USA        0\n"
     ]
    }
   ],
   "source": [
    "quarters_dict = {'Round':['Quarters']*4,\n",
    "                'Winner':['England', 'USA', 'Neterlands', 'Sweden'],\n",
    "                'W Goals':[3, 2, 2, 2]}\n",
    "df = pd.concat([pd.DataFrame(quarters_dict), df], sort=False)\n",
    "print(df)"
   ]
  },
  {
   "cell_type": "code",
   "execution_count": 22,
   "id": "constant-slovakia",
   "metadata": {},
   "outputs": [
    {
     "name": "stdout",
     "output_type": "stream",
     "text": [
      "          Round  W Goals       Winner\n",
      "0      Quarters        3      England\n",
      "1      Quarters        2          USA\n",
      "2      Quarters        2   Neterlands\n",
      "3      Quarters        2       Sweden\n",
      "0      Quarters        3      England\n",
      "1      Quarters        2          USA\n",
      "2      Quarters        2   Neterlands\n",
      "3      Quarters        2       Sweden\n",
      "0      Quarters        3      England\n",
      "1      Quarters        2          USA\n",
      "2      Quarters        2   Neterlands\n",
      "3      Quarters        2       Sweden\n",
      "0      Quarters        3      England\n",
      "1      Quarters        2          USA\n",
      "2      Quarters        2   Neterlands\n",
      "3      Quarters        2       Sweden\n",
      "0      Quarters        3      England\n",
      "1      Quarters        2          USA\n",
      "2      Quarters        2   Neterlands\n",
      "3      Quarters        2       Sweden\n",
      "0         Semis        2          USA\n",
      "1         Semis        1  Netherlands\n",
      "2     3rd Place        0       Sweden\n",
      "3  Championship        0          USA\n"
     ]
    }
   ],
   "source": [
    "quarters_dict = {'Round':['Quarters']*4,\n",
    "                'Winner':['England', 'USA', 'Neterlands', 'Sweden'],\n",
    "                'W Goals':[3, 2, 2, 2]}\n",
    "df = pd.concat([pd.DataFrame(quarters_dict), df], sort=True)\n",
    "print(df)"
   ]
  },
  {
   "cell_type": "code",
   "execution_count": 24,
   "id": "underlying-effort",
   "metadata": {},
   "outputs": [
    {
     "data": {
      "text/plain": [
       "0        England\n",
       "1            USA\n",
       "2    Netherlands\n",
       "3         Sweden\n",
       "4            USA\n",
       "5    Netherlands\n",
       "6         Sweden\n",
       "7            USA\n",
       "Name: Winner, dtype: object"
      ]
     },
     "execution_count": 24,
     "metadata": {},
     "output_type": "execute_result"
    }
   ],
   "source": [
    "wwc['Winner']"
   ]
  },
  {
   "cell_type": "code",
   "execution_count": 25,
   "id": "sealed-illness",
   "metadata": {},
   "outputs": [
    {
     "data": {
      "text/plain": [
       "'Sweden'"
      ]
     },
     "execution_count": 25,
     "metadata": {},
     "output_type": "execute_result"
    }
   ],
   "source": [
    "wwc['Winner'][3]"
   ]
  },
  {
   "cell_type": "code",
   "execution_count": 26,
   "id": "physical-reproduction",
   "metadata": {},
   "outputs": [
    {
     "name": "stdout",
     "output_type": "stream",
     "text": [
      "England,USA,Netherlands,Sweden,USA,Netherlands,Sweden,USA\n"
     ]
    }
   ],
   "source": [
    "winners = ''\n",
    "for w in wwc['Winner']:\n",
    "    winners += w + ','\n",
    "print(winners[:-1])"
   ]
  },
  {
   "cell_type": "code",
   "execution_count": 28,
   "id": "ambient-bunch",
   "metadata": {},
   "outputs": [
    {
     "name": "stdout",
     "output_type": "stream",
     "text": [
      "16\n"
     ]
    }
   ],
   "source": [
    "'''\n",
    "Finger exercise: Write a function that returns the sum of \n",
    "the goals scored by winners.\n",
    "'''\n",
    "def winners_score():\n",
    "    total = 0\n",
    "    for score in wwc['W Goals']:\n",
    "        total += score\n",
    "    return total\n",
    "print(winners_score())"
   ]
  },
  {
   "cell_type": "code",
   "execution_count": 29,
   "id": "addressed-might",
   "metadata": {},
   "outputs": [
    {
     "data": {
      "text/html": [
       "<div>\n",
       "<style scoped>\n",
       "    .dataframe tbody tr th:only-of-type {\n",
       "        vertical-align: middle;\n",
       "    }\n",
       "\n",
       "    .dataframe tbody tr th {\n",
       "        vertical-align: top;\n",
       "    }\n",
       "\n",
       "    .dataframe thead th {\n",
       "        text-align: right;\n",
       "    }\n",
       "</style>\n",
       "<table border=\"1\" class=\"dataframe\">\n",
       "  <thead>\n",
       "    <tr style=\"text-align: right;\">\n",
       "      <th></th>\n",
       "      <th>Winner</th>\n",
       "      <th>Loser</th>\n",
       "    </tr>\n",
       "  </thead>\n",
       "  <tbody>\n",
       "    <tr>\n",
       "      <th>0</th>\n",
       "      <td>England</td>\n",
       "      <td>Norway</td>\n",
       "    </tr>\n",
       "    <tr>\n",
       "      <th>1</th>\n",
       "      <td>USA</td>\n",
       "      <td>France</td>\n",
       "    </tr>\n",
       "    <tr>\n",
       "      <th>2</th>\n",
       "      <td>Netherlands</td>\n",
       "      <td>Italy</td>\n",
       "    </tr>\n",
       "    <tr>\n",
       "      <th>3</th>\n",
       "      <td>Sweden</td>\n",
       "      <td>Germany</td>\n",
       "    </tr>\n",
       "    <tr>\n",
       "      <th>4</th>\n",
       "      <td>USA</td>\n",
       "      <td>England</td>\n",
       "    </tr>\n",
       "    <tr>\n",
       "      <th>5</th>\n",
       "      <td>Netherlands</td>\n",
       "      <td>Sweden</td>\n",
       "    </tr>\n",
       "    <tr>\n",
       "      <th>6</th>\n",
       "      <td>Sweden</td>\n",
       "      <td>England</td>\n",
       "    </tr>\n",
       "    <tr>\n",
       "      <th>7</th>\n",
       "      <td>USA</td>\n",
       "      <td>Netherlands</td>\n",
       "    </tr>\n",
       "  </tbody>\n",
       "</table>\n",
       "</div>"
      ],
      "text/plain": [
       "        Winner        Loser\n",
       "0      England       Norway\n",
       "1          USA       France\n",
       "2  Netherlands        Italy\n",
       "3       Sweden      Germany\n",
       "4          USA      England\n",
       "5  Netherlands       Sweden\n",
       "6       Sweden      England\n",
       "7          USA  Netherlands"
      ]
     },
     "execution_count": 29,
     "metadata": {},
     "output_type": "execute_result"
    }
   ],
   "source": [
    "wwc[['Winner', 'Loser']]"
   ]
  },
  {
   "cell_type": "code",
   "execution_count": 31,
   "id": "other-simon",
   "metadata": {},
   "outputs": [
    {
     "data": {
      "text/html": [
       "<div>\n",
       "<style scoped>\n",
       "    .dataframe tbody tr th:only-of-type {\n",
       "        vertical-align: middle;\n",
       "    }\n",
       "\n",
       "    .dataframe tbody tr th {\n",
       "        vertical-align: top;\n",
       "    }\n",
       "\n",
       "    .dataframe thead th {\n",
       "        text-align: right;\n",
       "    }\n",
       "</style>\n",
       "<table border=\"1\" class=\"dataframe\">\n",
       "  <thead>\n",
       "    <tr style=\"text-align: right;\">\n",
       "      <th></th>\n",
       "      <th>Round</th>\n",
       "      <th>Winner</th>\n",
       "      <th>Loser</th>\n",
       "      <th>W Goals</th>\n",
       "      <th>L Goals</th>\n",
       "    </tr>\n",
       "  </thead>\n",
       "  <tbody>\n",
       "    <tr>\n",
       "      <th>0</th>\n",
       "      <td>Quarters</td>\n",
       "      <td>England</td>\n",
       "      <td>Norway</td>\n",
       "      <td>3</td>\n",
       "      <td>0</td>\n",
       "    </tr>\n",
       "    <tr>\n",
       "      <th>1</th>\n",
       "      <td>Quarters</td>\n",
       "      <td>USA</td>\n",
       "      <td>France</td>\n",
       "      <td>2</td>\n",
       "      <td>1</td>\n",
       "    </tr>\n",
       "    <tr>\n",
       "      <th>2</th>\n",
       "      <td>Quarters</td>\n",
       "      <td>Netherlands</td>\n",
       "      <td>Italy</td>\n",
       "      <td>2</td>\n",
       "      <td>0</td>\n",
       "    </tr>\n",
       "    <tr>\n",
       "      <th>3</th>\n",
       "      <td>Quarters</td>\n",
       "      <td>Sweden</td>\n",
       "      <td>Germany</td>\n",
       "      <td>2</td>\n",
       "      <td>1</td>\n",
       "    </tr>\n",
       "    <tr>\n",
       "      <th>4</th>\n",
       "      <td>Semis</td>\n",
       "      <td>USA</td>\n",
       "      <td>England</td>\n",
       "      <td>2</td>\n",
       "      <td>1</td>\n",
       "    </tr>\n",
       "    <tr>\n",
       "      <th>5</th>\n",
       "      <td>Semis</td>\n",
       "      <td>Netherlands</td>\n",
       "      <td>Sweden</td>\n",
       "      <td>1</td>\n",
       "      <td>0</td>\n",
       "    </tr>\n",
       "    <tr>\n",
       "      <th>6</th>\n",
       "      <td>3rd Place</td>\n",
       "      <td>Sweden</td>\n",
       "      <td>England</td>\n",
       "      <td>2</td>\n",
       "      <td>1</td>\n",
       "    </tr>\n",
       "    <tr>\n",
       "      <th>7</th>\n",
       "      <td>Championship</td>\n",
       "      <td>USA</td>\n",
       "      <td>Netherlands</td>\n",
       "      <td>2</td>\n",
       "      <td>0</td>\n",
       "    </tr>\n",
       "  </tbody>\n",
       "</table>\n",
       "</div>"
      ],
      "text/plain": [
       "          Round       Winner        Loser  W Goals  L Goals\n",
       "0      Quarters      England       Norway        3        0\n",
       "1      Quarters          USA       France        2        1\n",
       "2      Quarters  Netherlands        Italy        2        0\n",
       "3      Quarters       Sweden      Germany        2        1\n",
       "4         Semis          USA      England        2        1\n",
       "5         Semis  Netherlands       Sweden        1        0\n",
       "6     3rd Place       Sweden      England        2        1\n",
       "7  Championship          USA  Netherlands        2        0"
      ]
     },
     "execution_count": 31,
     "metadata": {},
     "output_type": "execute_result"
    }
   ],
   "source": [
    "wwc[['Round', 'Winner', 'Loser', 'W Goals', 'L Goals']]"
   ]
  },
  {
   "cell_type": "code",
   "execution_count": 32,
   "id": "spare-publication",
   "metadata": {},
   "outputs": [
    {
     "ename": "KeyError",
     "evalue": "1",
     "output_type": "error",
     "traceback": [
      "\u001b[1;31m---------------------------------------------------------------------------\u001b[0m",
      "\u001b[1;31mKeyError\u001b[0m                                  Traceback (most recent call last)",
      "\u001b[1;32m~\\miniconda3\\lib\\site-packages\\pandas\\core\\indexes\\base.py\u001b[0m in \u001b[0;36mget_loc\u001b[1;34m(self, key, method, tolerance)\u001b[0m\n\u001b[0;32m   3079\u001b[0m             \u001b[1;32mtry\u001b[0m\u001b[1;33m:\u001b[0m\u001b[1;33m\u001b[0m\u001b[1;33m\u001b[0m\u001b[0m\n\u001b[1;32m-> 3080\u001b[1;33m                 \u001b[1;32mreturn\u001b[0m \u001b[0mself\u001b[0m\u001b[1;33m.\u001b[0m\u001b[0m_engine\u001b[0m\u001b[1;33m.\u001b[0m\u001b[0mget_loc\u001b[0m\u001b[1;33m(\u001b[0m\u001b[0mcasted_key\u001b[0m\u001b[1;33m)\u001b[0m\u001b[1;33m\u001b[0m\u001b[1;33m\u001b[0m\u001b[0m\n\u001b[0m\u001b[0;32m   3081\u001b[0m             \u001b[1;32mexcept\u001b[0m \u001b[0mKeyError\u001b[0m \u001b[1;32mas\u001b[0m \u001b[0merr\u001b[0m\u001b[1;33m:\u001b[0m\u001b[1;33m\u001b[0m\u001b[1;33m\u001b[0m\u001b[0m\n",
      "\u001b[1;32mpandas\\_libs\\index.pyx\u001b[0m in \u001b[0;36mpandas._libs.index.IndexEngine.get_loc\u001b[1;34m()\u001b[0m\n",
      "\u001b[1;32mpandas\\_libs\\index.pyx\u001b[0m in \u001b[0;36mpandas._libs.index.IndexEngine.get_loc\u001b[1;34m()\u001b[0m\n",
      "\u001b[1;32mpandas\\_libs\\hashtable_class_helper.pxi\u001b[0m in \u001b[0;36mpandas._libs.hashtable.PyObjectHashTable.get_item\u001b[1;34m()\u001b[0m\n",
      "\u001b[1;32mpandas\\_libs\\hashtable_class_helper.pxi\u001b[0m in \u001b[0;36mpandas._libs.hashtable.PyObjectHashTable.get_item\u001b[1;34m()\u001b[0m\n",
      "\u001b[1;31mKeyError\u001b[0m: 1",
      "\nThe above exception was the direct cause of the following exception:\n",
      "\u001b[1;31mKeyError\u001b[0m                                  Traceback (most recent call last)",
      "\u001b[1;32m<ipython-input-32-ca0a916f235b>\u001b[0m in \u001b[0;36m<module>\u001b[1;34m\u001b[0m\n\u001b[1;32m----> 1\u001b[1;33m \u001b[0mwwc\u001b[0m\u001b[1;33m[\u001b[0m\u001b[1;36m1\u001b[0m\u001b[1;33m]\u001b[0m\u001b[1;33m\u001b[0m\u001b[1;33m\u001b[0m\u001b[0m\n\u001b[0m",
      "\u001b[1;32m~\\miniconda3\\lib\\site-packages\\pandas\\core\\frame.py\u001b[0m in \u001b[0;36m__getitem__\u001b[1;34m(self, key)\u001b[0m\n\u001b[0;32m   3022\u001b[0m             \u001b[1;32mif\u001b[0m \u001b[0mself\u001b[0m\u001b[1;33m.\u001b[0m\u001b[0mcolumns\u001b[0m\u001b[1;33m.\u001b[0m\u001b[0mnlevels\u001b[0m \u001b[1;33m>\u001b[0m \u001b[1;36m1\u001b[0m\u001b[1;33m:\u001b[0m\u001b[1;33m\u001b[0m\u001b[1;33m\u001b[0m\u001b[0m\n\u001b[0;32m   3023\u001b[0m                 \u001b[1;32mreturn\u001b[0m \u001b[0mself\u001b[0m\u001b[1;33m.\u001b[0m\u001b[0m_getitem_multilevel\u001b[0m\u001b[1;33m(\u001b[0m\u001b[0mkey\u001b[0m\u001b[1;33m)\u001b[0m\u001b[1;33m\u001b[0m\u001b[1;33m\u001b[0m\u001b[0m\n\u001b[1;32m-> 3024\u001b[1;33m             \u001b[0mindexer\u001b[0m \u001b[1;33m=\u001b[0m \u001b[0mself\u001b[0m\u001b[1;33m.\u001b[0m\u001b[0mcolumns\u001b[0m\u001b[1;33m.\u001b[0m\u001b[0mget_loc\u001b[0m\u001b[1;33m(\u001b[0m\u001b[0mkey\u001b[0m\u001b[1;33m)\u001b[0m\u001b[1;33m\u001b[0m\u001b[1;33m\u001b[0m\u001b[0m\n\u001b[0m\u001b[0;32m   3025\u001b[0m             \u001b[1;32mif\u001b[0m \u001b[0mis_integer\u001b[0m\u001b[1;33m(\u001b[0m\u001b[0mindexer\u001b[0m\u001b[1;33m)\u001b[0m\u001b[1;33m:\u001b[0m\u001b[1;33m\u001b[0m\u001b[1;33m\u001b[0m\u001b[0m\n\u001b[0;32m   3026\u001b[0m                 \u001b[0mindexer\u001b[0m \u001b[1;33m=\u001b[0m \u001b[1;33m[\u001b[0m\u001b[0mindexer\u001b[0m\u001b[1;33m]\u001b[0m\u001b[1;33m\u001b[0m\u001b[1;33m\u001b[0m\u001b[0m\n",
      "\u001b[1;32m~\\miniconda3\\lib\\site-packages\\pandas\\core\\indexes\\base.py\u001b[0m in \u001b[0;36mget_loc\u001b[1;34m(self, key, method, tolerance)\u001b[0m\n\u001b[0;32m   3080\u001b[0m                 \u001b[1;32mreturn\u001b[0m \u001b[0mself\u001b[0m\u001b[1;33m.\u001b[0m\u001b[0m_engine\u001b[0m\u001b[1;33m.\u001b[0m\u001b[0mget_loc\u001b[0m\u001b[1;33m(\u001b[0m\u001b[0mcasted_key\u001b[0m\u001b[1;33m)\u001b[0m\u001b[1;33m\u001b[0m\u001b[1;33m\u001b[0m\u001b[0m\n\u001b[0;32m   3081\u001b[0m             \u001b[1;32mexcept\u001b[0m \u001b[0mKeyError\u001b[0m \u001b[1;32mas\u001b[0m \u001b[0merr\u001b[0m\u001b[1;33m:\u001b[0m\u001b[1;33m\u001b[0m\u001b[1;33m\u001b[0m\u001b[0m\n\u001b[1;32m-> 3082\u001b[1;33m                 \u001b[1;32mraise\u001b[0m \u001b[0mKeyError\u001b[0m\u001b[1;33m(\u001b[0m\u001b[0mkey\u001b[0m\u001b[1;33m)\u001b[0m \u001b[1;32mfrom\u001b[0m \u001b[0merr\u001b[0m\u001b[1;33m\u001b[0m\u001b[1;33m\u001b[0m\u001b[0m\n\u001b[0m\u001b[0;32m   3083\u001b[0m \u001b[1;33m\u001b[0m\u001b[0m\n\u001b[0;32m   3084\u001b[0m         \u001b[1;32mif\u001b[0m \u001b[0mtolerance\u001b[0m \u001b[1;32mis\u001b[0m \u001b[1;32mnot\u001b[0m \u001b[1;32mNone\u001b[0m\u001b[1;33m:\u001b[0m\u001b[1;33m\u001b[0m\u001b[1;33m\u001b[0m\u001b[0m\n",
      "\u001b[1;31mKeyError\u001b[0m: 1"
     ]
    }
   ],
   "source": [
    "wwc[1]"
   ]
  },
  {
   "cell_type": "code",
   "execution_count": 33,
   "id": "laughing-confirmation",
   "metadata": {},
   "outputs": [
    {
     "data": {
      "text/html": [
       "<div>\n",
       "<style scoped>\n",
       "    .dataframe tbody tr th:only-of-type {\n",
       "        vertical-align: middle;\n",
       "    }\n",
       "\n",
       "    .dataframe tbody tr th {\n",
       "        vertical-align: top;\n",
       "    }\n",
       "\n",
       "    .dataframe thead th {\n",
       "        text-align: right;\n",
       "    }\n",
       "</style>\n",
       "<table border=\"1\" class=\"dataframe\">\n",
       "  <thead>\n",
       "    <tr style=\"text-align: right;\">\n",
       "      <th></th>\n",
       "      <th>Round</th>\n",
       "      <th>Winner</th>\n",
       "      <th>W Goals</th>\n",
       "      <th>Loser</th>\n",
       "      <th>L Goals</th>\n",
       "    </tr>\n",
       "  </thead>\n",
       "  <tbody>\n",
       "    <tr>\n",
       "      <th>1</th>\n",
       "      <td>Quarters</td>\n",
       "      <td>USA</td>\n",
       "      <td>2</td>\n",
       "      <td>France</td>\n",
       "      <td>1</td>\n",
       "    </tr>\n",
       "  </tbody>\n",
       "</table>\n",
       "</div>"
      ],
      "text/plain": [
       "      Round Winner  W Goals   Loser  L Goals\n",
       "1  Quarters    USA        2  France        1"
      ]
     },
     "execution_count": 33,
     "metadata": {},
     "output_type": "execute_result"
    }
   ],
   "source": [
    "wwc[1:2]"
   ]
  },
  {
   "cell_type": "code",
   "execution_count": 35,
   "id": "resident-portal",
   "metadata": {},
   "outputs": [
    {
     "data": {
      "text/html": [
       "<div>\n",
       "<style scoped>\n",
       "    .dataframe tbody tr th:only-of-type {\n",
       "        vertical-align: middle;\n",
       "    }\n",
       "\n",
       "    .dataframe tbody tr th {\n",
       "        vertical-align: top;\n",
       "    }\n",
       "\n",
       "    .dataframe thead th {\n",
       "        text-align: right;\n",
       "    }\n",
       "</style>\n",
       "<table border=\"1\" class=\"dataframe\">\n",
       "  <thead>\n",
       "    <tr style=\"text-align: right;\">\n",
       "      <th></th>\n",
       "      <th>Round</th>\n",
       "      <th>Winner</th>\n",
       "      <th>W Goals</th>\n",
       "      <th>Loser</th>\n",
       "      <th>L Goals</th>\n",
       "    </tr>\n",
       "  </thead>\n",
       "  <tbody>\n",
       "    <tr>\n",
       "      <th>0</th>\n",
       "      <td>Quarters</td>\n",
       "      <td>England</td>\n",
       "      <td>3</td>\n",
       "      <td>Norway</td>\n",
       "      <td>0</td>\n",
       "    </tr>\n",
       "    <tr>\n",
       "      <th>1</th>\n",
       "      <td>Quarters</td>\n",
       "      <td>USA</td>\n",
       "      <td>2</td>\n",
       "      <td>France</td>\n",
       "      <td>1</td>\n",
       "    </tr>\n",
       "    <tr>\n",
       "      <th>2</th>\n",
       "      <td>Quarters</td>\n",
       "      <td>Netherlands</td>\n",
       "      <td>2</td>\n",
       "      <td>Italy</td>\n",
       "      <td>0</td>\n",
       "    </tr>\n",
       "    <tr>\n",
       "      <th>3</th>\n",
       "      <td>Quarters</td>\n",
       "      <td>Sweden</td>\n",
       "      <td>2</td>\n",
       "      <td>Germany</td>\n",
       "      <td>1</td>\n",
       "    </tr>\n",
       "    <tr>\n",
       "      <th>4</th>\n",
       "      <td>Semis</td>\n",
       "      <td>USA</td>\n",
       "      <td>2</td>\n",
       "      <td>England</td>\n",
       "      <td>1</td>\n",
       "    </tr>\n",
       "    <tr>\n",
       "      <th>5</th>\n",
       "      <td>Semis</td>\n",
       "      <td>Netherlands</td>\n",
       "      <td>1</td>\n",
       "      <td>Sweden</td>\n",
       "      <td>0</td>\n",
       "    </tr>\n",
       "    <tr>\n",
       "      <th>6</th>\n",
       "      <td>3rd Place</td>\n",
       "      <td>Sweden</td>\n",
       "      <td>2</td>\n",
       "      <td>England</td>\n",
       "      <td>1</td>\n",
       "    </tr>\n",
       "    <tr>\n",
       "      <th>7</th>\n",
       "      <td>Championship</td>\n",
       "      <td>USA</td>\n",
       "      <td>2</td>\n",
       "      <td>Netherlands</td>\n",
       "      <td>0</td>\n",
       "    </tr>\n",
       "  </tbody>\n",
       "</table>\n",
       "</div>"
      ],
      "text/plain": [
       "          Round       Winner  W Goals        Loser  L Goals\n",
       "0      Quarters      England        3       Norway        0\n",
       "1      Quarters          USA        2       France        1\n",
       "2      Quarters  Netherlands        2        Italy        0\n",
       "3      Quarters       Sweden        2      Germany        1\n",
       "4         Semis          USA        2      England        1\n",
       "5         Semis  Netherlands        1       Sweden        0\n",
       "6     3rd Place       Sweden        2      England        1\n",
       "7  Championship          USA        2  Netherlands        0"
      ]
     },
     "execution_count": 35,
     "metadata": {},
     "output_type": "execute_result"
    }
   ],
   "source": [
    "wwc"
   ]
  },
  {
   "cell_type": "code",
   "execution_count": 36,
   "id": "suburban-development",
   "metadata": {},
   "outputs": [
    {
     "data": {
      "text/plain": [
       "Round      Quarters\n",
       "Winner       Sweden\n",
       "W Goals           2\n",
       "Loser       Germany\n",
       "L Goals           1\n",
       "Name: 3, dtype: object"
      ]
     },
     "execution_count": 36,
     "metadata": {},
     "output_type": "execute_result"
    }
   ],
   "source": [
    "wwc.loc[3]"
   ]
  },
  {
   "cell_type": "code",
   "execution_count": 37,
   "id": "drawn-glance",
   "metadata": {},
   "outputs": [
    {
     "data": {
      "text/html": [
       "<div>\n",
       "<style scoped>\n",
       "    .dataframe tbody tr th:only-of-type {\n",
       "        vertical-align: middle;\n",
       "    }\n",
       "\n",
       "    .dataframe tbody tr th {\n",
       "        vertical-align: top;\n",
       "    }\n",
       "\n",
       "    .dataframe thead th {\n",
       "        text-align: right;\n",
       "    }\n",
       "</style>\n",
       "<table border=\"1\" class=\"dataframe\">\n",
       "  <thead>\n",
       "    <tr style=\"text-align: right;\">\n",
       "      <th></th>\n",
       "      <th>Round</th>\n",
       "      <th>Winner</th>\n",
       "      <th>W Goals</th>\n",
       "      <th>Loser</th>\n",
       "      <th>L Goals</th>\n",
       "    </tr>\n",
       "  </thead>\n",
       "  <tbody>\n",
       "    <tr>\n",
       "      <th>1</th>\n",
       "      <td>Quarters</td>\n",
       "      <td>USA</td>\n",
       "      <td>2</td>\n",
       "      <td>France</td>\n",
       "      <td>1</td>\n",
       "    </tr>\n",
       "    <tr>\n",
       "      <th>3</th>\n",
       "      <td>Quarters</td>\n",
       "      <td>Sweden</td>\n",
       "      <td>2</td>\n",
       "      <td>Germany</td>\n",
       "      <td>1</td>\n",
       "    </tr>\n",
       "    <tr>\n",
       "      <th>5</th>\n",
       "      <td>Semis</td>\n",
       "      <td>Netherlands</td>\n",
       "      <td>1</td>\n",
       "      <td>Sweden</td>\n",
       "      <td>0</td>\n",
       "    </tr>\n",
       "  </tbody>\n",
       "</table>\n",
       "</div>"
      ],
      "text/plain": [
       "      Round       Winner  W Goals    Loser  L Goals\n",
       "1  Quarters          USA        2   France        1\n",
       "3  Quarters       Sweden        2  Germany        1\n",
       "5     Semis  Netherlands        1   Sweden        0"
      ]
     },
     "execution_count": 37,
     "metadata": {},
     "output_type": "execute_result"
    }
   ],
   "source": [
    "wwc.loc[[1, 3, 5]]"
   ]
  },
  {
   "cell_type": "code",
   "execution_count": 38,
   "id": "existing-sally",
   "metadata": {},
   "outputs": [
    {
     "data": {
      "text/html": [
       "<div>\n",
       "<style scoped>\n",
       "    .dataframe tbody tr th:only-of-type {\n",
       "        vertical-align: middle;\n",
       "    }\n",
       "\n",
       "    .dataframe tbody tr th {\n",
       "        vertical-align: top;\n",
       "    }\n",
       "\n",
       "    .dataframe thead th {\n",
       "        text-align: right;\n",
       "    }\n",
       "</style>\n",
       "<table border=\"1\" class=\"dataframe\">\n",
       "  <thead>\n",
       "    <tr style=\"text-align: right;\">\n",
       "      <th></th>\n",
       "      <th>Round</th>\n",
       "      <th>Winner</th>\n",
       "      <th>W Goals</th>\n",
       "      <th>Loser</th>\n",
       "      <th>L Goals</th>\n",
       "    </tr>\n",
       "  </thead>\n",
       "  <tbody>\n",
       "    <tr>\n",
       "      <th>3</th>\n",
       "      <td>Quarters</td>\n",
       "      <td>Sweden</td>\n",
       "      <td>2</td>\n",
       "      <td>Germany</td>\n",
       "      <td>1</td>\n",
       "    </tr>\n",
       "    <tr>\n",
       "      <th>5</th>\n",
       "      <td>Semis</td>\n",
       "      <td>Netherlands</td>\n",
       "      <td>1</td>\n",
       "      <td>Sweden</td>\n",
       "      <td>0</td>\n",
       "    </tr>\n",
       "    <tr>\n",
       "      <th>7</th>\n",
       "      <td>Championship</td>\n",
       "      <td>USA</td>\n",
       "      <td>2</td>\n",
       "      <td>Netherlands</td>\n",
       "      <td>0</td>\n",
       "    </tr>\n",
       "  </tbody>\n",
       "</table>\n",
       "</div>"
      ],
      "text/plain": [
       "          Round       Winner  W Goals        Loser  L Goals\n",
       "3      Quarters       Sweden        2      Germany        1\n",
       "5         Semis  Netherlands        1       Sweden        0\n",
       "7  Championship          USA        2  Netherlands        0"
      ]
     },
     "execution_count": 38,
     "metadata": {},
     "output_type": "execute_result"
    }
   ],
   "source": [
    "wwc.loc[3:7:2]"
   ]
  },
  {
   "cell_type": "code",
   "execution_count": 39,
   "id": "legitimate-belly",
   "metadata": {},
   "outputs": [
    {
     "data": {
      "text/html": [
       "<div>\n",
       "<style scoped>\n",
       "    .dataframe tbody tr th:only-of-type {\n",
       "        vertical-align: middle;\n",
       "    }\n",
       "\n",
       "    .dataframe tbody tr th {\n",
       "        vertical-align: top;\n",
       "    }\n",
       "\n",
       "    .dataframe thead th {\n",
       "        text-align: right;\n",
       "    }\n",
       "</style>\n",
       "<table border=\"1\" class=\"dataframe\">\n",
       "  <thead>\n",
       "    <tr style=\"text-align: right;\">\n",
       "      <th></th>\n",
       "      <th>Round</th>\n",
       "      <th>Winner</th>\n",
       "      <th>W Goals</th>\n",
       "      <th>Loser</th>\n",
       "      <th>L Goals</th>\n",
       "    </tr>\n",
       "  </thead>\n",
       "  <tbody>\n",
       "    <tr>\n",
       "      <th>6</th>\n",
       "      <td>3rd Place</td>\n",
       "      <td>Sweden</td>\n",
       "      <td>2</td>\n",
       "      <td>England</td>\n",
       "      <td>1</td>\n",
       "    </tr>\n",
       "    <tr>\n",
       "      <th>7</th>\n",
       "      <td>Championship</td>\n",
       "      <td>USA</td>\n",
       "      <td>2</td>\n",
       "      <td>Netherlands</td>\n",
       "      <td>0</td>\n",
       "    </tr>\n",
       "  </tbody>\n",
       "</table>\n",
       "</div>"
      ],
      "text/plain": [
       "          Round  Winner  W Goals        Loser  L Goals\n",
       "6     3rd Place  Sweden        2      England        1\n",
       "7  Championship     USA        2  Netherlands        0"
      ]
     },
     "execution_count": 39,
     "metadata": {},
     "output_type": "execute_result"
    }
   ],
   "source": [
    "wwc.loc[6:]"
   ]
  },
  {
   "cell_type": "code",
   "execution_count": 40,
   "id": "increased-sandwich",
   "metadata": {},
   "outputs": [
    {
     "data": {
      "text/html": [
       "<div>\n",
       "<style scoped>\n",
       "    .dataframe tbody tr th:only-of-type {\n",
       "        vertical-align: middle;\n",
       "    }\n",
       "\n",
       "    .dataframe tbody tr th {\n",
       "        vertical-align: top;\n",
       "    }\n",
       "\n",
       "    .dataframe thead th {\n",
       "        text-align: right;\n",
       "    }\n",
       "</style>\n",
       "<table border=\"1\" class=\"dataframe\">\n",
       "  <thead>\n",
       "    <tr style=\"text-align: right;\">\n",
       "      <th></th>\n",
       "      <th>Round</th>\n",
       "      <th>Winner</th>\n",
       "      <th>W Goals</th>\n",
       "      <th>Loser</th>\n",
       "      <th>L Goals</th>\n",
       "    </tr>\n",
       "  </thead>\n",
       "  <tbody>\n",
       "    <tr>\n",
       "      <th>0</th>\n",
       "      <td>Quarters</td>\n",
       "      <td>England</td>\n",
       "      <td>3</td>\n",
       "      <td>Norway</td>\n",
       "      <td>0</td>\n",
       "    </tr>\n",
       "    <tr>\n",
       "      <th>1</th>\n",
       "      <td>Quarters</td>\n",
       "      <td>USA</td>\n",
       "      <td>2</td>\n",
       "      <td>France</td>\n",
       "      <td>1</td>\n",
       "    </tr>\n",
       "    <tr>\n",
       "      <th>2</th>\n",
       "      <td>Quarters</td>\n",
       "      <td>Netherlands</td>\n",
       "      <td>2</td>\n",
       "      <td>Italy</td>\n",
       "      <td>0</td>\n",
       "    </tr>\n",
       "  </tbody>\n",
       "</table>\n",
       "</div>"
      ],
      "text/plain": [
       "      Round       Winner  W Goals   Loser  L Goals\n",
       "0  Quarters      England        3  Norway        0\n",
       "1  Quarters          USA        2  France        1\n",
       "2  Quarters  Netherlands        2   Italy        0"
      ]
     },
     "execution_count": 40,
     "metadata": {},
     "output_type": "execute_result"
    }
   ],
   "source": [
    "wwc.loc[:2]"
   ]
  },
  {
   "cell_type": "code",
   "execution_count": 43,
   "id": "through-phrase",
   "metadata": {},
   "outputs": [
    {
     "data": {
      "text/html": [
       "<div>\n",
       "<style scoped>\n",
       "    .dataframe tbody tr th:only-of-type {\n",
       "        vertical-align: middle;\n",
       "    }\n",
       "\n",
       "    .dataframe tbody tr th {\n",
       "        vertical-align: top;\n",
       "    }\n",
       "\n",
       "    .dataframe thead th {\n",
       "        text-align: right;\n",
       "    }\n",
       "</style>\n",
       "<table border=\"1\" class=\"dataframe\">\n",
       "  <thead>\n",
       "    <tr style=\"text-align: right;\">\n",
       "      <th></th>\n",
       "      <th>Round</th>\n",
       "      <th>Winner</th>\n",
       "      <th>W Goals</th>\n",
       "      <th>Loser</th>\n",
       "      <th>L Goals</th>\n",
       "    </tr>\n",
       "  </thead>\n",
       "  <tbody>\n",
       "    <tr>\n",
       "      <th>0</th>\n",
       "      <td>Quarters</td>\n",
       "      <td>England</td>\n",
       "      <td>3</td>\n",
       "      <td>Norway</td>\n",
       "      <td>0</td>\n",
       "    </tr>\n",
       "    <tr>\n",
       "      <th>2</th>\n",
       "      <td>Quarters</td>\n",
       "      <td>Netherlands</td>\n",
       "      <td>2</td>\n",
       "      <td>Italy</td>\n",
       "      <td>0</td>\n",
       "    </tr>\n",
       "    <tr>\n",
       "      <th>4</th>\n",
       "      <td>Semis</td>\n",
       "      <td>USA</td>\n",
       "      <td>2</td>\n",
       "      <td>England</td>\n",
       "      <td>1</td>\n",
       "    </tr>\n",
       "    <tr>\n",
       "      <th>6</th>\n",
       "      <td>3rd Place</td>\n",
       "      <td>Sweden</td>\n",
       "      <td>2</td>\n",
       "      <td>England</td>\n",
       "      <td>1</td>\n",
       "    </tr>\n",
       "  </tbody>\n",
       "</table>\n",
       "</div>"
      ],
      "text/plain": [
       "       Round       Winner  W Goals    Loser  L Goals\n",
       "0   Quarters      England        3   Norway        0\n",
       "2   Quarters  Netherlands        2    Italy        0\n",
       "4      Semis          USA        2  England        1\n",
       "6  3rd Place       Sweden        2  England        1"
      ]
     },
     "execution_count": 43,
     "metadata": {},
     "output_type": "execute_result"
    }
   ],
   "source": [
    "'''Finger exercise: Write an expression that selects all \n",
    "even numbered rows in wwc.'''\n",
    "wwc.loc[::2]"
   ]
  },
  {
   "cell_type": "code",
   "execution_count": 44,
   "id": "apparent-bathroom",
   "metadata": {},
   "outputs": [
    {
     "data": {
      "text/html": [
       "<div>\n",
       "<style scoped>\n",
       "    .dataframe tbody tr th:only-of-type {\n",
       "        vertical-align: middle;\n",
       "    }\n",
       "\n",
       "    .dataframe tbody tr th {\n",
       "        vertical-align: top;\n",
       "    }\n",
       "\n",
       "    .dataframe thead th {\n",
       "        text-align: right;\n",
       "    }\n",
       "</style>\n",
       "<table border=\"1\" class=\"dataframe\">\n",
       "  <thead>\n",
       "    <tr style=\"text-align: right;\">\n",
       "      <th></th>\n",
       "      <th>Round</th>\n",
       "      <th>W Goals</th>\n",
       "      <th>L Goals</th>\n",
       "    </tr>\n",
       "  </thead>\n",
       "  <tbody>\n",
       "    <tr>\n",
       "      <th>0</th>\n",
       "      <td>Quarters</td>\n",
       "      <td>3</td>\n",
       "      <td>0</td>\n",
       "    </tr>\n",
       "    <tr>\n",
       "      <th>1</th>\n",
       "      <td>Quarters</td>\n",
       "      <td>2</td>\n",
       "      <td>1</td>\n",
       "    </tr>\n",
       "    <tr>\n",
       "      <th>2</th>\n",
       "      <td>Quarters</td>\n",
       "      <td>2</td>\n",
       "      <td>0</td>\n",
       "    </tr>\n",
       "  </tbody>\n",
       "</table>\n",
       "</div>"
      ],
      "text/plain": [
       "      Round  W Goals  L Goals\n",
       "0  Quarters        3        0\n",
       "1  Quarters        2        1\n",
       "2  Quarters        2        0"
      ]
     },
     "execution_count": 44,
     "metadata": {},
     "output_type": "execute_result"
    }
   ],
   "source": [
    "wwc.loc[0:2, 'Round':'L Goals':2]"
   ]
  },
  {
   "cell_type": "code",
   "execution_count": 45,
   "id": "periodic-company",
   "metadata": {},
   "outputs": [
    {
     "data": {
      "text/html": [
       "<div>\n",
       "<style scoped>\n",
       "    .dataframe tbody tr th:only-of-type {\n",
       "        vertical-align: middle;\n",
       "    }\n",
       "\n",
       "    .dataframe tbody tr th {\n",
       "        vertical-align: top;\n",
       "    }\n",
       "\n",
       "    .dataframe thead th {\n",
       "        text-align: right;\n",
       "    }\n",
       "</style>\n",
       "<table border=\"1\" class=\"dataframe\">\n",
       "  <thead>\n",
       "    <tr style=\"text-align: right;\">\n",
       "      <th></th>\n",
       "      <th>Round</th>\n",
       "      <th>Winner</th>\n",
       "      <th>W Goals</th>\n",
       "      <th>Loser</th>\n",
       "      <th>L Goals</th>\n",
       "    </tr>\n",
       "  </thead>\n",
       "  <tbody>\n",
       "    <tr>\n",
       "      <th>0</th>\n",
       "      <td>Quarters</td>\n",
       "      <td>England</td>\n",
       "      <td>3</td>\n",
       "      <td>Norway</td>\n",
       "      <td>0</td>\n",
       "    </tr>\n",
       "    <tr>\n",
       "      <th>1</th>\n",
       "      <td>Quarters</td>\n",
       "      <td>USA</td>\n",
       "      <td>2</td>\n",
       "      <td>France</td>\n",
       "      <td>1</td>\n",
       "    </tr>\n",
       "    <tr>\n",
       "      <th>2</th>\n",
       "      <td>Quarters</td>\n",
       "      <td>Netherlands</td>\n",
       "      <td>2</td>\n",
       "      <td>Italy</td>\n",
       "      <td>0</td>\n",
       "    </tr>\n",
       "    <tr>\n",
       "      <th>3</th>\n",
       "      <td>Quarters</td>\n",
       "      <td>Sweden</td>\n",
       "      <td>2</td>\n",
       "      <td>Germany</td>\n",
       "      <td>1</td>\n",
       "    </tr>\n",
       "    <tr>\n",
       "      <th>4</th>\n",
       "      <td>Semis</td>\n",
       "      <td>USA</td>\n",
       "      <td>2</td>\n",
       "      <td>England</td>\n",
       "      <td>1</td>\n",
       "    </tr>\n",
       "    <tr>\n",
       "      <th>5</th>\n",
       "      <td>Semis</td>\n",
       "      <td>Netherlands</td>\n",
       "      <td>1</td>\n",
       "      <td>Sweden</td>\n",
       "      <td>0</td>\n",
       "    </tr>\n",
       "    <tr>\n",
       "      <th>6</th>\n",
       "      <td>3rd Place</td>\n",
       "      <td>Sweden</td>\n",
       "      <td>2</td>\n",
       "      <td>England</td>\n",
       "      <td>1</td>\n",
       "    </tr>\n",
       "    <tr>\n",
       "      <th>7</th>\n",
       "      <td>Championship</td>\n",
       "      <td>USA</td>\n",
       "      <td>2</td>\n",
       "      <td>Netherlands</td>\n",
       "      <td>0</td>\n",
       "    </tr>\n",
       "  </tbody>\n",
       "</table>\n",
       "</div>"
      ],
      "text/plain": [
       "          Round       Winner  W Goals        Loser  L Goals\n",
       "0      Quarters      England        3       Norway        0\n",
       "1      Quarters          USA        2       France        1\n",
       "2      Quarters  Netherlands        2        Italy        0\n",
       "3      Quarters       Sweden        2      Germany        1\n",
       "4         Semis          USA        2      England        1\n",
       "5         Semis  Netherlands        1       Sweden        0\n",
       "6     3rd Place       Sweden        2      England        1\n",
       "7  Championship          USA        2  Netherlands        0"
      ]
     },
     "execution_count": 45,
     "metadata": {},
     "output_type": "execute_result"
    }
   ],
   "source": [
    "wwc"
   ]
  },
  {
   "cell_type": "code",
   "execution_count": 46,
   "id": "musical-review",
   "metadata": {},
   "outputs": [
    {
     "data": {
      "text/html": [
       "<div>\n",
       "<style scoped>\n",
       "    .dataframe tbody tr th:only-of-type {\n",
       "        vertical-align: middle;\n",
       "    }\n",
       "\n",
       "    .dataframe tbody tr th {\n",
       "        vertical-align: top;\n",
       "    }\n",
       "\n",
       "    .dataframe thead th {\n",
       "        text-align: right;\n",
       "    }\n",
       "</style>\n",
       "<table border=\"1\" class=\"dataframe\">\n",
       "  <thead>\n",
       "    <tr style=\"text-align: right;\">\n",
       "      <th></th>\n",
       "      <th>Round</th>\n",
       "      <th>Winner</th>\n",
       "      <th>W Goals</th>\n",
       "      <th>Loser</th>\n",
       "      <th>L Goals</th>\n",
       "    </tr>\n",
       "  </thead>\n",
       "  <tbody>\n",
       "    <tr>\n",
       "      <th>1</th>\n",
       "      <td>Quarters</td>\n",
       "      <td>USA</td>\n",
       "      <td>2</td>\n",
       "      <td>France</td>\n",
       "      <td>1</td>\n",
       "    </tr>\n",
       "    <tr>\n",
       "      <th>2</th>\n",
       "      <td>Quarters</td>\n",
       "      <td>Netherlands</td>\n",
       "      <td>2</td>\n",
       "      <td>Italy</td>\n",
       "      <td>0</td>\n",
       "    </tr>\n",
       "  </tbody>\n",
       "</table>\n",
       "</div>"
      ],
      "text/plain": [
       "      Round       Winner  W Goals   Loser  L Goals\n",
       "1  Quarters          USA        2  France        1\n",
       "2  Quarters  Netherlands        2   Italy        0"
      ]
     },
     "execution_count": 46,
     "metadata": {},
     "output_type": "execute_result"
    }
   ],
   "source": [
    "wwc.loc[1:2]"
   ]
  },
  {
   "cell_type": "code",
   "execution_count": 52,
   "id": "unauthorized-newman",
   "metadata": {},
   "outputs": [
    {
     "name": "stdout",
     "output_type": "stream",
     "text": [
      "              W Goals  L Goals\n",
      "Round                         \n",
      "3rd Place           2        1\n",
      "Championship        2        0\n",
      "Quarters            9        2\n",
      "Semis               3        1\n"
     ]
    }
   ],
   "source": [
    "grouped_by_round = wwc.groupby('Round')\n",
    "print(grouped_by_round.sum())"
   ]
  },
  {
   "cell_type": "code",
   "execution_count": 53,
   "id": "acoustic-geography",
   "metadata": {},
   "outputs": [
    {
     "name": "stdout",
     "output_type": "stream",
     "text": [
      "             W Goals   L Goals\n",
      "Winner                        \n",
      "England          3.0  0.000000\n",
      "Netherlands      1.5  0.000000\n",
      "Sweden           2.0  1.000000\n",
      "USA              2.0  0.666667\n"
     ]
    }
   ],
   "source": [
    "print(wwc.groupby('Winner').mean())"
   ]
  },
  {
   "cell_type": "code",
   "execution_count": 55,
   "id": "cardiac-candidate",
   "metadata": {},
   "outputs": [
    {
     "data": {
      "text/html": [
       "<div>\n",
       "<style scoped>\n",
       "    .dataframe tbody tr th:only-of-type {\n",
       "        vertical-align: middle;\n",
       "    }\n",
       "\n",
       "    .dataframe tbody tr th {\n",
       "        vertical-align: top;\n",
       "    }\n",
       "\n",
       "    .dataframe thead th {\n",
       "        text-align: right;\n",
       "    }\n",
       "</style>\n",
       "<table border=\"1\" class=\"dataframe\">\n",
       "  <thead>\n",
       "    <tr style=\"text-align: right;\">\n",
       "      <th></th>\n",
       "      <th></th>\n",
       "      <th>W Goals</th>\n",
       "      <th>L Goals</th>\n",
       "    </tr>\n",
       "    <tr>\n",
       "      <th>Loser</th>\n",
       "      <th>Round</th>\n",
       "      <th></th>\n",
       "      <th></th>\n",
       "    </tr>\n",
       "  </thead>\n",
       "  <tbody>\n",
       "    <tr>\n",
       "      <th rowspan=\"2\" valign=\"top\">England</th>\n",
       "      <th>3rd Place</th>\n",
       "      <td>2</td>\n",
       "      <td>1</td>\n",
       "    </tr>\n",
       "    <tr>\n",
       "      <th>Semis</th>\n",
       "      <td>2</td>\n",
       "      <td>1</td>\n",
       "    </tr>\n",
       "    <tr>\n",
       "      <th>France</th>\n",
       "      <th>Quarters</th>\n",
       "      <td>2</td>\n",
       "      <td>1</td>\n",
       "    </tr>\n",
       "    <tr>\n",
       "      <th>Germany</th>\n",
       "      <th>Quarters</th>\n",
       "      <td>2</td>\n",
       "      <td>1</td>\n",
       "    </tr>\n",
       "    <tr>\n",
       "      <th>Italy</th>\n",
       "      <th>Quarters</th>\n",
       "      <td>2</td>\n",
       "      <td>0</td>\n",
       "    </tr>\n",
       "    <tr>\n",
       "      <th>Netherlands</th>\n",
       "      <th>Championship</th>\n",
       "      <td>2</td>\n",
       "      <td>0</td>\n",
       "    </tr>\n",
       "    <tr>\n",
       "      <th>Norway</th>\n",
       "      <th>Quarters</th>\n",
       "      <td>3</td>\n",
       "      <td>0</td>\n",
       "    </tr>\n",
       "    <tr>\n",
       "      <th>Sweden</th>\n",
       "      <th>Semis</th>\n",
       "      <td>1</td>\n",
       "      <td>0</td>\n",
       "    </tr>\n",
       "  </tbody>\n",
       "</table>\n",
       "</div>"
      ],
      "text/plain": [
       "                          W Goals  L Goals\n",
       "Loser       Round                         \n",
       "England     3rd Place           2        1\n",
       "            Semis               2        1\n",
       "France      Quarters            2        1\n",
       "Germany     Quarters            2        1\n",
       "Italy       Quarters            2        0\n",
       "Netherlands Championship        2        0\n",
       "Norway      Quarters            3        0\n",
       "Sweden      Semis               1        0"
      ]
     },
     "execution_count": 55,
     "metadata": {},
     "output_type": "execute_result"
    }
   ],
   "source": [
    "wwc.groupby(['Loser', 'Round']).mean()"
   ]
  },
  {
   "cell_type": "code",
   "execution_count": 58,
   "id": "assisted-impossible",
   "metadata": {},
   "outputs": [
    {
     "data": {
      "text/html": [
       "<div>\n",
       "<style scoped>\n",
       "    .dataframe tbody tr th:only-of-type {\n",
       "        vertical-align: middle;\n",
       "    }\n",
       "\n",
       "    .dataframe tbody tr th {\n",
       "        vertical-align: top;\n",
       "    }\n",
       "\n",
       "    .dataframe thead th {\n",
       "        text-align: right;\n",
       "    }\n",
       "</style>\n",
       "<table border=\"1\" class=\"dataframe\">\n",
       "  <thead>\n",
       "    <tr style=\"text-align: right;\">\n",
       "      <th></th>\n",
       "      <th>Round</th>\n",
       "      <th>Winner</th>\n",
       "      <th>W Goals</th>\n",
       "      <th>Loser</th>\n",
       "      <th>L Goals</th>\n",
       "    </tr>\n",
       "  </thead>\n",
       "  <tbody>\n",
       "    <tr>\n",
       "      <th>3</th>\n",
       "      <td>Quarters</td>\n",
       "      <td>Sweden</td>\n",
       "      <td>2</td>\n",
       "      <td>Germany</td>\n",
       "      <td>1</td>\n",
       "    </tr>\n",
       "    <tr>\n",
       "      <th>5</th>\n",
       "      <td>Semis</td>\n",
       "      <td>Netherlands</td>\n",
       "      <td>1</td>\n",
       "      <td>Sweden</td>\n",
       "      <td>0</td>\n",
       "    </tr>\n",
       "    <tr>\n",
       "      <th>6</th>\n",
       "      <td>3rd Place</td>\n",
       "      <td>Sweden</td>\n",
       "      <td>2</td>\n",
       "      <td>England</td>\n",
       "      <td>1</td>\n",
       "    </tr>\n",
       "  </tbody>\n",
       "</table>\n",
       "</div>"
      ],
      "text/plain": [
       "       Round       Winner  W Goals    Loser  L Goals\n",
       "3   Quarters       Sweden        2  Germany        1\n",
       "5      Semis  Netherlands        1   Sweden        0\n",
       "6  3rd Place       Sweden        2  England        1"
      ]
     },
     "execution_count": 58,
     "metadata": {},
     "output_type": "execute_result"
    }
   ],
   "source": [
    "wwc.loc[(wwc['Winner'] == 'Sweden') | (wwc['Loser'] == 'Sweden')]"
   ]
  },
  {
   "cell_type": "code",
   "execution_count": 59,
   "id": "egyptian-colombia",
   "metadata": {},
   "outputs": [
    {
     "data": {
      "text/html": [
       "<div>\n",
       "<style scoped>\n",
       "    .dataframe tbody tr th:only-of-type {\n",
       "        vertical-align: middle;\n",
       "    }\n",
       "\n",
       "    .dataframe tbody tr th {\n",
       "        vertical-align: top;\n",
       "    }\n",
       "\n",
       "    .dataframe thead th {\n",
       "        text-align: right;\n",
       "    }\n",
       "</style>\n",
       "<table border=\"1\" class=\"dataframe\">\n",
       "  <thead>\n",
       "    <tr style=\"text-align: right;\">\n",
       "      <th></th>\n",
       "      <th>Round</th>\n",
       "      <th>Winner</th>\n",
       "      <th>W Goals</th>\n",
       "      <th>Loser</th>\n",
       "      <th>L Goals</th>\n",
       "    </tr>\n",
       "  </thead>\n",
       "  <tbody>\n",
       "    <tr>\n",
       "      <th>0</th>\n",
       "      <td>Quarters</td>\n",
       "      <td>England</td>\n",
       "      <td>3</td>\n",
       "      <td>Norway</td>\n",
       "      <td>0</td>\n",
       "    </tr>\n",
       "    <tr>\n",
       "      <th>1</th>\n",
       "      <td>Quarters</td>\n",
       "      <td>USA</td>\n",
       "      <td>2</td>\n",
       "      <td>France</td>\n",
       "      <td>1</td>\n",
       "    </tr>\n",
       "    <tr>\n",
       "      <th>2</th>\n",
       "      <td>Quarters</td>\n",
       "      <td>Netherlands</td>\n",
       "      <td>2</td>\n",
       "      <td>Italy</td>\n",
       "      <td>0</td>\n",
       "    </tr>\n",
       "    <tr>\n",
       "      <th>3</th>\n",
       "      <td>Quarters</td>\n",
       "      <td>Sweden</td>\n",
       "      <td>2</td>\n",
       "      <td>Germany</td>\n",
       "      <td>1</td>\n",
       "    </tr>\n",
       "    <tr>\n",
       "      <th>4</th>\n",
       "      <td>Semis</td>\n",
       "      <td>USA</td>\n",
       "      <td>2</td>\n",
       "      <td>England</td>\n",
       "      <td>1</td>\n",
       "    </tr>\n",
       "    <tr>\n",
       "      <th>5</th>\n",
       "      <td>Semis</td>\n",
       "      <td>Netherlands</td>\n",
       "      <td>1</td>\n",
       "      <td>Sweden</td>\n",
       "      <td>0</td>\n",
       "    </tr>\n",
       "    <tr>\n",
       "      <th>6</th>\n",
       "      <td>3rd Place</td>\n",
       "      <td>Sweden</td>\n",
       "      <td>2</td>\n",
       "      <td>England</td>\n",
       "      <td>1</td>\n",
       "    </tr>\n",
       "    <tr>\n",
       "      <th>7</th>\n",
       "      <td>Championship</td>\n",
       "      <td>USA</td>\n",
       "      <td>2</td>\n",
       "      <td>Netherlands</td>\n",
       "      <td>0</td>\n",
       "    </tr>\n",
       "  </tbody>\n",
       "</table>\n",
       "</div>"
      ],
      "text/plain": [
       "          Round       Winner  W Goals        Loser  L Goals\n",
       "0      Quarters      England        3       Norway        0\n",
       "1      Quarters          USA        2       France        1\n",
       "2      Quarters  Netherlands        2        Italy        0\n",
       "3      Quarters       Sweden        2      Germany        1\n",
       "4         Semis          USA        2      England        1\n",
       "5         Semis  Netherlands        1       Sweden        0\n",
       "6     3rd Place       Sweden        2      England        1\n",
       "7  Championship          USA        2  Netherlands        0"
      ]
     },
     "execution_count": 59,
     "metadata": {},
     "output_type": "execute_result"
    }
   ],
   "source": [
    "wwc"
   ]
  },
  {
   "cell_type": "code",
   "execution_count": 63,
   "id": "interim-democracy",
   "metadata": {},
   "outputs": [
    {
     "data": {
      "text/html": [
       "<div>\n",
       "<style scoped>\n",
       "    .dataframe tbody tr th:only-of-type {\n",
       "        vertical-align: middle;\n",
       "    }\n",
       "\n",
       "    .dataframe tbody tr th {\n",
       "        vertical-align: top;\n",
       "    }\n",
       "\n",
       "    .dataframe thead th {\n",
       "        text-align: right;\n",
       "    }\n",
       "</style>\n",
       "<table border=\"1\" class=\"dataframe\">\n",
       "  <thead>\n",
       "    <tr style=\"text-align: right;\">\n",
       "      <th></th>\n",
       "      <th>Round</th>\n",
       "      <th>Winner</th>\n",
       "      <th>W Goals</th>\n",
       "      <th>Loser</th>\n",
       "      <th>L Goals</th>\n",
       "    </tr>\n",
       "  </thead>\n",
       "  <tbody>\n",
       "    <tr>\n",
       "      <th>4</th>\n",
       "      <td>Semis</td>\n",
       "      <td>USA</td>\n",
       "      <td>2</td>\n",
       "      <td>England</td>\n",
       "      <td>1</td>\n",
       "    </tr>\n",
       "    <tr>\n",
       "      <th>7</th>\n",
       "      <td>Championship</td>\n",
       "      <td>USA</td>\n",
       "      <td>2</td>\n",
       "      <td>Netherlands</td>\n",
       "      <td>0</td>\n",
       "    </tr>\n",
       "  </tbody>\n",
       "</table>\n",
       "</div>"
      ],
      "text/plain": [
       "          Round Winner  W Goals        Loser  L Goals\n",
       "4         Semis    USA        2      England        1\n",
       "7  Championship    USA        2  Netherlands        0"
      ]
     },
     "execution_count": 63,
     "metadata": {},
     "output_type": "execute_result"
    }
   ],
   "source": [
    "wwc.loc[(wwc['Winner'] == 'USA') ^ (wwc['Loser'] == 'France')]"
   ]
  },
  {
   "cell_type": "code",
   "execution_count": 64,
   "id": "fossil-satellite",
   "metadata": {},
   "outputs": [],
   "source": [
    "def get_country(df, country):\n",
    "    '''df a DataFrame with Series labeled Winner and Loser\n",
    "    country a str\n",
    "    Returns a DataFrame with all rows in which country appears\n",
    "    in either the Winner or Loser column'''\n",
    "    return df.loc[(df['Winner'] == country)|(df['Loser'] == country)]"
   ]
  },
  {
   "cell_type": "code",
   "execution_count": 65,
   "id": "casual-framework",
   "metadata": {},
   "outputs": [
    {
     "data": {
      "text/html": [
       "<div>\n",
       "<style scoped>\n",
       "    .dataframe tbody tr th:only-of-type {\n",
       "        vertical-align: middle;\n",
       "    }\n",
       "\n",
       "    .dataframe tbody tr th {\n",
       "        vertical-align: top;\n",
       "    }\n",
       "\n",
       "    .dataframe thead th {\n",
       "        text-align: right;\n",
       "    }\n",
       "</style>\n",
       "<table border=\"1\" class=\"dataframe\">\n",
       "  <thead>\n",
       "    <tr style=\"text-align: right;\">\n",
       "      <th></th>\n",
       "      <th>Round</th>\n",
       "      <th>Winner</th>\n",
       "      <th>W Goals</th>\n",
       "      <th>Loser</th>\n",
       "      <th>L Goals</th>\n",
       "    </tr>\n",
       "  </thead>\n",
       "  <tbody>\n",
       "    <tr>\n",
       "      <th>0</th>\n",
       "      <td>Quarters</td>\n",
       "      <td>England</td>\n",
       "      <td>3</td>\n",
       "      <td>Norway</td>\n",
       "      <td>0</td>\n",
       "    </tr>\n",
       "    <tr>\n",
       "      <th>4</th>\n",
       "      <td>Semis</td>\n",
       "      <td>USA</td>\n",
       "      <td>2</td>\n",
       "      <td>England</td>\n",
       "      <td>1</td>\n",
       "    </tr>\n",
       "    <tr>\n",
       "      <th>6</th>\n",
       "      <td>3rd Place</td>\n",
       "      <td>Sweden</td>\n",
       "      <td>2</td>\n",
       "      <td>England</td>\n",
       "      <td>1</td>\n",
       "    </tr>\n",
       "  </tbody>\n",
       "</table>\n",
       "</div>"
      ],
      "text/plain": [
       "       Round   Winner  W Goals    Loser  L Goals\n",
       "0   Quarters  England        3   Norway        0\n",
       "4      Semis      USA        2  England        1\n",
       "6  3rd Place   Sweden        2  England        1"
      ]
     },
     "execution_count": 65,
     "metadata": {},
     "output_type": "execute_result"
    }
   ],
   "source": [
    "get_country(wwc, 'England')"
   ]
  },
  {
   "cell_type": "code",
   "execution_count": 66,
   "id": "combined-vampire",
   "metadata": {},
   "outputs": [
    {
     "data": {
      "text/html": [
       "<div>\n",
       "<style scoped>\n",
       "    .dataframe tbody tr th:only-of-type {\n",
       "        vertical-align: middle;\n",
       "    }\n",
       "\n",
       "    .dataframe tbody tr th {\n",
       "        vertical-align: top;\n",
       "    }\n",
       "\n",
       "    .dataframe thead th {\n",
       "        text-align: right;\n",
       "    }\n",
       "</style>\n",
       "<table border=\"1\" class=\"dataframe\">\n",
       "  <thead>\n",
       "    <tr style=\"text-align: right;\">\n",
       "      <th></th>\n",
       "      <th>Round</th>\n",
       "      <th>Winner</th>\n",
       "      <th>W Goals</th>\n",
       "      <th>Loser</th>\n",
       "      <th>L Goals</th>\n",
       "    </tr>\n",
       "  </thead>\n",
       "  <tbody>\n",
       "    <tr>\n",
       "      <th>3</th>\n",
       "      <td>Quarters</td>\n",
       "      <td>Sweden</td>\n",
       "      <td>2</td>\n",
       "      <td>Germany</td>\n",
       "      <td>1</td>\n",
       "    </tr>\n",
       "  </tbody>\n",
       "</table>\n",
       "</div>"
      ],
      "text/plain": [
       "      Round  Winner  W Goals    Loser  L Goals\n",
       "3  Quarters  Sweden        2  Germany        1"
      ]
     },
     "execution_count": 66,
     "metadata": {},
     "output_type": "execute_result"
    }
   ],
   "source": [
    "get_country(get_country(wwc, 'Sweden'), 'Germany')"
   ]
  },
  {
   "cell_type": "code",
   "execution_count": 70,
   "id": "devoted-netscape",
   "metadata": {},
   "outputs": [],
   "source": [
    "def get_games(df, countries):\n",
    "    return df[(df['Winner'].isin(countries))&(df['Loser'].isin(countries))]"
   ]
  },
  {
   "cell_type": "code",
   "execution_count": 71,
   "id": "tested-frank",
   "metadata": {},
   "outputs": [
    {
     "data": {
      "text/html": [
       "<div>\n",
       "<style scoped>\n",
       "    .dataframe tbody tr th:only-of-type {\n",
       "        vertical-align: middle;\n",
       "    }\n",
       "\n",
       "    .dataframe tbody tr th {\n",
       "        vertical-align: top;\n",
       "    }\n",
       "\n",
       "    .dataframe thead th {\n",
       "        text-align: right;\n",
       "    }\n",
       "</style>\n",
       "<table border=\"1\" class=\"dataframe\">\n",
       "  <thead>\n",
       "    <tr style=\"text-align: right;\">\n",
       "      <th></th>\n",
       "      <th>Round</th>\n",
       "      <th>Winner</th>\n",
       "      <th>W Goals</th>\n",
       "      <th>Loser</th>\n",
       "      <th>L Goals</th>\n",
       "    </tr>\n",
       "  </thead>\n",
       "  <tbody>\n",
       "    <tr>\n",
       "      <th>0</th>\n",
       "      <td>Quarters</td>\n",
       "      <td>England</td>\n",
       "      <td>3</td>\n",
       "      <td>Norway</td>\n",
       "      <td>0</td>\n",
       "    </tr>\n",
       "    <tr>\n",
       "      <th>1</th>\n",
       "      <td>Quarters</td>\n",
       "      <td>USA</td>\n",
       "      <td>2</td>\n",
       "      <td>France</td>\n",
       "      <td>1</td>\n",
       "    </tr>\n",
       "    <tr>\n",
       "      <th>2</th>\n",
       "      <td>Quarters</td>\n",
       "      <td>Netherlands</td>\n",
       "      <td>2</td>\n",
       "      <td>Italy</td>\n",
       "      <td>0</td>\n",
       "    </tr>\n",
       "    <tr>\n",
       "      <th>3</th>\n",
       "      <td>Quarters</td>\n",
       "      <td>Sweden</td>\n",
       "      <td>2</td>\n",
       "      <td>Germany</td>\n",
       "      <td>1</td>\n",
       "    </tr>\n",
       "    <tr>\n",
       "      <th>4</th>\n",
       "      <td>Semis</td>\n",
       "      <td>USA</td>\n",
       "      <td>2</td>\n",
       "      <td>England</td>\n",
       "      <td>1</td>\n",
       "    </tr>\n",
       "    <tr>\n",
       "      <th>5</th>\n",
       "      <td>Semis</td>\n",
       "      <td>Netherlands</td>\n",
       "      <td>1</td>\n",
       "      <td>Sweden</td>\n",
       "      <td>0</td>\n",
       "    </tr>\n",
       "    <tr>\n",
       "      <th>6</th>\n",
       "      <td>3rd Place</td>\n",
       "      <td>Sweden</td>\n",
       "      <td>2</td>\n",
       "      <td>England</td>\n",
       "      <td>1</td>\n",
       "    </tr>\n",
       "    <tr>\n",
       "      <th>7</th>\n",
       "      <td>Championship</td>\n",
       "      <td>USA</td>\n",
       "      <td>2</td>\n",
       "      <td>Netherlands</td>\n",
       "      <td>0</td>\n",
       "    </tr>\n",
       "  </tbody>\n",
       "</table>\n",
       "</div>"
      ],
      "text/plain": [
       "          Round       Winner  W Goals        Loser  L Goals\n",
       "0      Quarters      England        3       Norway        0\n",
       "1      Quarters          USA        2       France        1\n",
       "2      Quarters  Netherlands        2        Italy        0\n",
       "3      Quarters       Sweden        2      Germany        1\n",
       "4         Semis          USA        2      England        1\n",
       "5         Semis  Netherlands        1       Sweden        0\n",
       "6     3rd Place       Sweden        2      England        1\n",
       "7  Championship          USA        2  Netherlands        0"
      ]
     },
     "execution_count": 71,
     "metadata": {},
     "output_type": "execute_result"
    }
   ],
   "source": [
    "wwc"
   ]
  },
  {
   "cell_type": "code",
   "execution_count": 72,
   "id": "varied-radio",
   "metadata": {},
   "outputs": [
    {
     "data": {
      "text/html": [
       "<div>\n",
       "<style scoped>\n",
       "    .dataframe tbody tr th:only-of-type {\n",
       "        vertical-align: middle;\n",
       "    }\n",
       "\n",
       "    .dataframe tbody tr th {\n",
       "        vertical-align: top;\n",
       "    }\n",
       "\n",
       "    .dataframe thead th {\n",
       "        text-align: right;\n",
       "    }\n",
       "</style>\n",
       "<table border=\"1\" class=\"dataframe\">\n",
       "  <thead>\n",
       "    <tr style=\"text-align: right;\">\n",
       "      <th></th>\n",
       "      <th>Round</th>\n",
       "      <th>Winner</th>\n",
       "      <th>W Goals</th>\n",
       "      <th>Loser</th>\n",
       "      <th>L Goals</th>\n",
       "    </tr>\n",
       "  </thead>\n",
       "  <tbody>\n",
       "    <tr>\n",
       "      <th>3</th>\n",
       "      <td>Quarters</td>\n",
       "      <td>Sweden</td>\n",
       "      <td>2</td>\n",
       "      <td>Germany</td>\n",
       "      <td>1</td>\n",
       "    </tr>\n",
       "    <tr>\n",
       "      <th>5</th>\n",
       "      <td>Semis</td>\n",
       "      <td>Netherlands</td>\n",
       "      <td>1</td>\n",
       "      <td>Sweden</td>\n",
       "      <td>0</td>\n",
       "    </tr>\n",
       "  </tbody>\n",
       "</table>\n",
       "</div>"
      ],
      "text/plain": [
       "      Round       Winner  W Goals    Loser  L Goals\n",
       "3  Quarters       Sweden        2  Germany        1\n",
       "5     Semis  Netherlands        1   Sweden        0"
      ]
     },
     "execution_count": 72,
     "metadata": {},
     "output_type": "execute_result"
    }
   ],
   "source": [
    "get_games(wwc, ['Sweden', 'Germany', 'Netherlands'])"
   ]
  },
  {
   "cell_type": "code",
   "execution_count": 73,
   "id": "heated-residence",
   "metadata": {},
   "outputs": [
    {
     "data": {
      "text/plain": [
       "0    6\n",
       "1    4\n",
       "2    4\n",
       "3    4\n",
       "4    4\n",
       "5    2\n",
       "6    4\n",
       "7    4\n",
       "Name: W Goals, dtype: int64"
      ]
     },
     "execution_count": 73,
     "metadata": {},
     "output_type": "execute_result"
    }
   ],
   "source": [
    "2 * wwc['W Goals']"
   ]
  },
  {
   "cell_type": "code",
   "execution_count": 74,
   "id": "failing-synthetic",
   "metadata": {},
   "outputs": [
    {
     "data": {
      "text/plain": [
       "16"
      ]
     },
     "execution_count": 74,
     "metadata": {},
     "output_type": "execute_result"
    }
   ],
   "source": [
    "wwc['W Goals'].sum()"
   ]
  },
  {
   "cell_type": "code",
   "execution_count": 75,
   "id": "hundred-drunk",
   "metadata": {},
   "outputs": [
    {
     "data": {
      "text/plain": [
       "20"
      ]
     },
     "execution_count": 75,
     "metadata": {},
     "output_type": "execute_result"
    }
   ],
   "source": [
    "wwc['W Goals'].sum() + wwc['L Goals'].sum()"
   ]
  },
  {
   "cell_type": "code",
   "execution_count": 76,
   "id": "structured-decrease",
   "metadata": {},
   "outputs": [
    {
     "data": {
      "text/html": [
       "<div>\n",
       "<style scoped>\n",
       "    .dataframe tbody tr th:only-of-type {\n",
       "        vertical-align: middle;\n",
       "    }\n",
       "\n",
       "    .dataframe tbody tr th {\n",
       "        vertical-align: top;\n",
       "    }\n",
       "\n",
       "    .dataframe thead th {\n",
       "        text-align: right;\n",
       "    }\n",
       "</style>\n",
       "<table border=\"1\" class=\"dataframe\">\n",
       "  <thead>\n",
       "    <tr style=\"text-align: right;\">\n",
       "      <th></th>\n",
       "      <th>Round</th>\n",
       "      <th>Winner</th>\n",
       "      <th>W Goals</th>\n",
       "      <th>Loser</th>\n",
       "      <th>L Goals</th>\n",
       "    </tr>\n",
       "  </thead>\n",
       "  <tbody>\n",
       "    <tr>\n",
       "      <th>0</th>\n",
       "      <td>Quarters</td>\n",
       "      <td>England</td>\n",
       "      <td>3</td>\n",
       "      <td>Norway</td>\n",
       "      <td>0</td>\n",
       "    </tr>\n",
       "    <tr>\n",
       "      <th>1</th>\n",
       "      <td>Quarters</td>\n",
       "      <td>USA</td>\n",
       "      <td>2</td>\n",
       "      <td>France</td>\n",
       "      <td>1</td>\n",
       "    </tr>\n",
       "    <tr>\n",
       "      <th>2</th>\n",
       "      <td>Quarters</td>\n",
       "      <td>Netherlands</td>\n",
       "      <td>2</td>\n",
       "      <td>Italy</td>\n",
       "      <td>0</td>\n",
       "    </tr>\n",
       "    <tr>\n",
       "      <th>3</th>\n",
       "      <td>Quarters</td>\n",
       "      <td>Sweden</td>\n",
       "      <td>2</td>\n",
       "      <td>Germany</td>\n",
       "      <td>1</td>\n",
       "    </tr>\n",
       "    <tr>\n",
       "      <th>4</th>\n",
       "      <td>Semis</td>\n",
       "      <td>USA</td>\n",
       "      <td>2</td>\n",
       "      <td>England</td>\n",
       "      <td>1</td>\n",
       "    </tr>\n",
       "    <tr>\n",
       "      <th>5</th>\n",
       "      <td>Semis</td>\n",
       "      <td>Netherlands</td>\n",
       "      <td>1</td>\n",
       "      <td>Sweden</td>\n",
       "      <td>0</td>\n",
       "    </tr>\n",
       "    <tr>\n",
       "      <th>6</th>\n",
       "      <td>3rd Place</td>\n",
       "      <td>Sweden</td>\n",
       "      <td>2</td>\n",
       "      <td>England</td>\n",
       "      <td>1</td>\n",
       "    </tr>\n",
       "    <tr>\n",
       "      <th>7</th>\n",
       "      <td>Championship</td>\n",
       "      <td>USA</td>\n",
       "      <td>2</td>\n",
       "      <td>Netherlands</td>\n",
       "      <td>0</td>\n",
       "    </tr>\n",
       "  </tbody>\n",
       "</table>\n",
       "</div>"
      ],
      "text/plain": [
       "          Round       Winner  W Goals        Loser  L Goals\n",
       "0      Quarters      England        3       Norway        0\n",
       "1      Quarters          USA        2       France        1\n",
       "2      Quarters  Netherlands        2        Italy        0\n",
       "3      Quarters       Sweden        2      Germany        1\n",
       "4         Semis          USA        2      England        1\n",
       "5         Semis  Netherlands        1       Sweden        0\n",
       "6     3rd Place       Sweden        2      England        1\n",
       "7  Championship          USA        2  Netherlands        0"
      ]
     },
     "execution_count": 76,
     "metadata": {},
     "output_type": "execute_result"
    }
   ],
   "source": [
    "wwc"
   ]
  },
  {
   "cell_type": "code",
   "execution_count": 82,
   "id": "coastal-diversity",
   "metadata": {},
   "outputs": [
    {
     "data": {
      "text/plain": [
       "2"
      ]
     },
     "execution_count": 82,
     "metadata": {},
     "output_type": "execute_result"
    }
   ],
   "source": [
    "wwc[wwc['Round']=='Quarters']['L Goals'].sum()"
   ]
  },
  {
   "cell_type": "code",
   "execution_count": 83,
   "id": "electronic-maintenance",
   "metadata": {},
   "outputs": [],
   "source": [
    "wwc['G Diff'] = wwc['W Goals'] - wwc['L Goals']"
   ]
  },
  {
   "cell_type": "code",
   "execution_count": 84,
   "id": "simplified-spoke",
   "metadata": {},
   "outputs": [
    {
     "data": {
      "text/html": [
       "<div>\n",
       "<style scoped>\n",
       "    .dataframe tbody tr th:only-of-type {\n",
       "        vertical-align: middle;\n",
       "    }\n",
       "\n",
       "    .dataframe tbody tr th {\n",
       "        vertical-align: top;\n",
       "    }\n",
       "\n",
       "    .dataframe thead th {\n",
       "        text-align: right;\n",
       "    }\n",
       "</style>\n",
       "<table border=\"1\" class=\"dataframe\">\n",
       "  <thead>\n",
       "    <tr style=\"text-align: right;\">\n",
       "      <th></th>\n",
       "      <th>Round</th>\n",
       "      <th>Winner</th>\n",
       "      <th>W Goals</th>\n",
       "      <th>Loser</th>\n",
       "      <th>L Goals</th>\n",
       "      <th>G Diff</th>\n",
       "    </tr>\n",
       "  </thead>\n",
       "  <tbody>\n",
       "    <tr>\n",
       "      <th>0</th>\n",
       "      <td>Quarters</td>\n",
       "      <td>England</td>\n",
       "      <td>3</td>\n",
       "      <td>Norway</td>\n",
       "      <td>0</td>\n",
       "      <td>3</td>\n",
       "    </tr>\n",
       "    <tr>\n",
       "      <th>1</th>\n",
       "      <td>Quarters</td>\n",
       "      <td>USA</td>\n",
       "      <td>2</td>\n",
       "      <td>France</td>\n",
       "      <td>1</td>\n",
       "      <td>1</td>\n",
       "    </tr>\n",
       "    <tr>\n",
       "      <th>2</th>\n",
       "      <td>Quarters</td>\n",
       "      <td>Netherlands</td>\n",
       "      <td>2</td>\n",
       "      <td>Italy</td>\n",
       "      <td>0</td>\n",
       "      <td>2</td>\n",
       "    </tr>\n",
       "    <tr>\n",
       "      <th>3</th>\n",
       "      <td>Quarters</td>\n",
       "      <td>Sweden</td>\n",
       "      <td>2</td>\n",
       "      <td>Germany</td>\n",
       "      <td>1</td>\n",
       "      <td>1</td>\n",
       "    </tr>\n",
       "    <tr>\n",
       "      <th>4</th>\n",
       "      <td>Semis</td>\n",
       "      <td>USA</td>\n",
       "      <td>2</td>\n",
       "      <td>England</td>\n",
       "      <td>1</td>\n",
       "      <td>1</td>\n",
       "    </tr>\n",
       "    <tr>\n",
       "      <th>5</th>\n",
       "      <td>Semis</td>\n",
       "      <td>Netherlands</td>\n",
       "      <td>1</td>\n",
       "      <td>Sweden</td>\n",
       "      <td>0</td>\n",
       "      <td>1</td>\n",
       "    </tr>\n",
       "    <tr>\n",
       "      <th>6</th>\n",
       "      <td>3rd Place</td>\n",
       "      <td>Sweden</td>\n",
       "      <td>2</td>\n",
       "      <td>England</td>\n",
       "      <td>1</td>\n",
       "      <td>1</td>\n",
       "    </tr>\n",
       "    <tr>\n",
       "      <th>7</th>\n",
       "      <td>Championship</td>\n",
       "      <td>USA</td>\n",
       "      <td>2</td>\n",
       "      <td>Netherlands</td>\n",
       "      <td>0</td>\n",
       "      <td>2</td>\n",
       "    </tr>\n",
       "  </tbody>\n",
       "</table>\n",
       "</div>"
      ],
      "text/plain": [
       "          Round       Winner  W Goals        Loser  L Goals  G Diff\n",
       "0      Quarters      England        3       Norway        0       3\n",
       "1      Quarters          USA        2       France        1       1\n",
       "2      Quarters  Netherlands        2        Italy        0       2\n",
       "3      Quarters       Sweden        2      Germany        1       1\n",
       "4         Semis          USA        2      England        1       1\n",
       "5         Semis  Netherlands        1       Sweden        0       1\n",
       "6     3rd Place       Sweden        2      England        1       1\n",
       "7  Championship          USA        2  Netherlands        0       2"
      ]
     },
     "execution_count": 84,
     "metadata": {},
     "output_type": "execute_result"
    }
   ],
   "source": [
    "wwc"
   ]
  },
  {
   "cell_type": "code",
   "execution_count": 85,
   "id": "solar-heath",
   "metadata": {},
   "outputs": [],
   "source": [
    "new_row_dict = {'Round':['Total'],\n",
    "               'W Goals':[wwc['W Goals'].sum()],\n",
    "               'L Goals':[wwc['L Goals'].sum()],\n",
    "               'G Diff':[wwc['G Diff'].sum()]}"
   ]
  },
  {
   "cell_type": "code",
   "execution_count": 86,
   "id": "rapid-integer",
   "metadata": {},
   "outputs": [],
   "source": [
    "new_row = pd.DataFrame(new_row_dict)\n",
    "wwc = pd.concat([wwc, new_row], sort=False).reset_index(drop=True)"
   ]
  },
  {
   "cell_type": "code",
   "execution_count": 87,
   "id": "attractive-basis",
   "metadata": {},
   "outputs": [
    {
     "data": {
      "text/html": [
       "<div>\n",
       "<style scoped>\n",
       "    .dataframe tbody tr th:only-of-type {\n",
       "        vertical-align: middle;\n",
       "    }\n",
       "\n",
       "    .dataframe tbody tr th {\n",
       "        vertical-align: top;\n",
       "    }\n",
       "\n",
       "    .dataframe thead th {\n",
       "        text-align: right;\n",
       "    }\n",
       "</style>\n",
       "<table border=\"1\" class=\"dataframe\">\n",
       "  <thead>\n",
       "    <tr style=\"text-align: right;\">\n",
       "      <th></th>\n",
       "      <th>Round</th>\n",
       "      <th>Winner</th>\n",
       "      <th>W Goals</th>\n",
       "      <th>Loser</th>\n",
       "      <th>L Goals</th>\n",
       "      <th>G Diff</th>\n",
       "    </tr>\n",
       "  </thead>\n",
       "  <tbody>\n",
       "    <tr>\n",
       "      <th>0</th>\n",
       "      <td>Quarters</td>\n",
       "      <td>England</td>\n",
       "      <td>3</td>\n",
       "      <td>Norway</td>\n",
       "      <td>0</td>\n",
       "      <td>3</td>\n",
       "    </tr>\n",
       "    <tr>\n",
       "      <th>1</th>\n",
       "      <td>Quarters</td>\n",
       "      <td>USA</td>\n",
       "      <td>2</td>\n",
       "      <td>France</td>\n",
       "      <td>1</td>\n",
       "      <td>1</td>\n",
       "    </tr>\n",
       "    <tr>\n",
       "      <th>2</th>\n",
       "      <td>Quarters</td>\n",
       "      <td>Netherlands</td>\n",
       "      <td>2</td>\n",
       "      <td>Italy</td>\n",
       "      <td>0</td>\n",
       "      <td>2</td>\n",
       "    </tr>\n",
       "    <tr>\n",
       "      <th>3</th>\n",
       "      <td>Quarters</td>\n",
       "      <td>Sweden</td>\n",
       "      <td>2</td>\n",
       "      <td>Germany</td>\n",
       "      <td>1</td>\n",
       "      <td>1</td>\n",
       "    </tr>\n",
       "    <tr>\n",
       "      <th>4</th>\n",
       "      <td>Semis</td>\n",
       "      <td>USA</td>\n",
       "      <td>2</td>\n",
       "      <td>England</td>\n",
       "      <td>1</td>\n",
       "      <td>1</td>\n",
       "    </tr>\n",
       "    <tr>\n",
       "      <th>5</th>\n",
       "      <td>Semis</td>\n",
       "      <td>Netherlands</td>\n",
       "      <td>1</td>\n",
       "      <td>Sweden</td>\n",
       "      <td>0</td>\n",
       "      <td>1</td>\n",
       "    </tr>\n",
       "    <tr>\n",
       "      <th>6</th>\n",
       "      <td>3rd Place</td>\n",
       "      <td>Sweden</td>\n",
       "      <td>2</td>\n",
       "      <td>England</td>\n",
       "      <td>1</td>\n",
       "      <td>1</td>\n",
       "    </tr>\n",
       "    <tr>\n",
       "      <th>7</th>\n",
       "      <td>Championship</td>\n",
       "      <td>USA</td>\n",
       "      <td>2</td>\n",
       "      <td>Netherlands</td>\n",
       "      <td>0</td>\n",
       "      <td>2</td>\n",
       "    </tr>\n",
       "    <tr>\n",
       "      <th>8</th>\n",
       "      <td>Total</td>\n",
       "      <td>NaN</td>\n",
       "      <td>16</td>\n",
       "      <td>NaN</td>\n",
       "      <td>4</td>\n",
       "      <td>12</td>\n",
       "    </tr>\n",
       "  </tbody>\n",
       "</table>\n",
       "</div>"
      ],
      "text/plain": [
       "          Round       Winner  W Goals        Loser  L Goals  G Diff\n",
       "0      Quarters      England        3       Norway        0       3\n",
       "1      Quarters          USA        2       France        1       1\n",
       "2      Quarters  Netherlands        2        Italy        0       2\n",
       "3      Quarters       Sweden        2      Germany        1       1\n",
       "4         Semis          USA        2      England        1       1\n",
       "5         Semis  Netherlands        1       Sweden        0       1\n",
       "6     3rd Place       Sweden        2      England        1       1\n",
       "7  Championship          USA        2  Netherlands        0       2\n",
       "8         Total          NaN       16          NaN        4      12"
      ]
     },
     "execution_count": 87,
     "metadata": {},
     "output_type": "execute_result"
    }
   ],
   "source": [
    "wwc"
   ]
  },
  {
   "cell_type": "code",
   "execution_count": 88,
   "id": "juvenile-niagara",
   "metadata": {},
   "outputs": [
    {
     "name": "stdout",
     "output_type": "stream",
     "text": [
      "              W Goals       L Goals    G Diff\n",
      "W Goals  1.000000e+00  5.551115e-17  0.707107\n",
      "L Goals  5.551115e-17  1.000000e+00 -0.707107\n",
      "G Diff   7.071068e-01 -7.071068e-01  1.000000\n"
     ]
    }
   ],
   "source": [
    "print(wwc.loc[wwc['Round']!='Total'].corr(method='pearson'))"
   ]
  },
  {
   "cell_type": "code",
   "execution_count": 89,
   "id": "modular-machinery",
   "metadata": {},
   "outputs": [
    {
     "name": "stdout",
     "output_type": "stream",
     "text": [
      "           Date  Albuquerque  ...  St Louis  Tampa\n",
      "0      19610101        -0.55  ...     -0.55  15.00\n",
      "1      19610102        -2.50  ...     -0.55  13.60\n",
      "2      19610103        -2.50  ...      0.30  11.95\n",
      "...         ...          ...  ...       ...    ...\n",
      "20085  20151229        -2.15  ...      1.40  26.10\n",
      "20086  20151230        -2.75  ...      0.60  25.55\n",
      "20087  20151231        -0.75  ...     -0.25  25.55\n",
      "\n",
      "[20088 rows x 22 columns]\n"
     ]
    }
   ],
   "source": [
    "pd.set_option('display.max_rows', 6)\n",
    "pd.set_option('display.max_columns', 5)\n",
    "temperatures = pd.read_csv('US_temperatures.csv')\n",
    "print(temperatures)"
   ]
  },
  {
   "cell_type": "code",
   "execution_count": 91,
   "id": "uniform-tooth",
   "metadata": {},
   "outputs": [
    {
     "data": {
      "text/html": [
       "<div>\n",
       "<style scoped>\n",
       "    .dataframe tbody tr th:only-of-type {\n",
       "        vertical-align: middle;\n",
       "    }\n",
       "\n",
       "    .dataframe tbody tr th {\n",
       "        vertical-align: top;\n",
       "    }\n",
       "\n",
       "    .dataframe thead th {\n",
       "        text-align: right;\n",
       "    }\n",
       "</style>\n",
       "<table border=\"1\" class=\"dataframe\">\n",
       "  <thead>\n",
       "    <tr style=\"text-align: right;\">\n",
       "      <th></th>\n",
       "      <th>New York</th>\n",
       "      <th>Tampa</th>\n",
       "    </tr>\n",
       "  </thead>\n",
       "  <tbody>\n",
       "    <tr>\n",
       "      <th>6797</th>\n",
       "      <td>15.0</td>\n",
       "      <td>25.55</td>\n",
       "    </tr>\n",
       "  </tbody>\n",
       "</table>\n",
       "</div>"
      ],
      "text/plain": [
       "      New York  Tampa\n",
       "6797      15.0  25.55"
      ]
     },
     "execution_count": 91,
     "metadata": {},
     "output_type": "execute_result"
    }
   ],
   "source": [
    "temperatures.loc[temperatures['Date']==19790812][['New York', 'Tampa']]"
   ]
  },
  {
   "cell_type": "code",
   "execution_count": 93,
   "id": "affecting-defense",
   "metadata": {},
   "outputs": [
    {
     "data": {
      "text/plain": [
       "14548    False\n",
       "dtype: bool"
      ]
     },
     "execution_count": 93,
     "metadata": {},
     "output_type": "execute_result"
    }
   ],
   "source": [
    "temperatures.loc[temperatures['Date']==20001031]['Phoenix'] > temperatures.loc[temperatures['Date']==20001031]['Tampa']"
   ]
  },
  {
   "cell_type": "code",
   "execution_count": 97,
   "id": "protected-english",
   "metadata": {},
   "outputs": [
    {
     "data": {
      "text/plain": [
       "10768    19900626\n",
       "Name: Date, dtype: int64"
      ]
     },
     "execution_count": 97,
     "metadata": {},
     "output_type": "execute_result"
    }
   ],
   "source": [
    "temperatures.loc[temperatures['Phoenix']==41.4]['Date']"
   ]
  },
  {
   "cell_type": "code",
   "execution_count": 126,
   "id": "extreme-baseball",
   "metadata": {},
   "outputs": [
    {
     "data": {
      "text/html": [
       "<div>\n",
       "<style scoped>\n",
       "    .dataframe tbody tr th:only-of-type {\n",
       "        vertical-align: middle;\n",
       "    }\n",
       "\n",
       "    .dataframe tbody tr th {\n",
       "        vertical-align: top;\n",
       "    }\n",
       "\n",
       "    .dataframe thead th {\n",
       "        text-align: right;\n",
       "    }\n",
       "</style>\n",
       "<table border=\"1\" class=\"dataframe\">\n",
       "  <thead>\n",
       "    <tr style=\"text-align: right;\">\n",
       "      <th></th>\n",
       "      <th>Albuquerque</th>\n",
       "      <th>Baltimore</th>\n",
       "      <th>...</th>\n",
       "      <th>Min T</th>\n",
       "      <th>Mean T</th>\n",
       "    </tr>\n",
       "    <tr>\n",
       "      <th>Date</th>\n",
       "      <th></th>\n",
       "      <th></th>\n",
       "      <th></th>\n",
       "      <th></th>\n",
       "      <th></th>\n",
       "    </tr>\n",
       "  </thead>\n",
       "  <tbody>\n",
       "    <tr>\n",
       "      <th>19610101</th>\n",
       "      <td>-0.55</td>\n",
       "      <td>3.35</td>\n",
       "      <td>...</td>\n",
       "      <td>-4.75</td>\n",
       "      <td>885183.96</td>\n",
       "    </tr>\n",
       "    <tr>\n",
       "      <th>19610102</th>\n",
       "      <td>-2.50</td>\n",
       "      <td>0.00</td>\n",
       "      <td>...</td>\n",
       "      <td>-5.00</td>\n",
       "      <td>885182.41</td>\n",
       "    </tr>\n",
       "    <tr>\n",
       "      <th>19610103</th>\n",
       "      <td>-2.50</td>\n",
       "      <td>0.85</td>\n",
       "      <td>...</td>\n",
       "      <td>-10.80</td>\n",
       "      <td>885181.68</td>\n",
       "    </tr>\n",
       "    <tr>\n",
       "      <th>...</th>\n",
       "      <td>...</td>\n",
       "      <td>...</td>\n",
       "      <td>...</td>\n",
       "      <td>...</td>\n",
       "      <td>...</td>\n",
       "    </tr>\n",
       "    <tr>\n",
       "      <th>20151229</th>\n",
       "      <td>-2.15</td>\n",
       "      <td>9.45</td>\n",
       "      <td>...</td>\n",
       "      <td>-2.15</td>\n",
       "      <td>909612.18</td>\n",
       "    </tr>\n",
       "    <tr>\n",
       "      <th>20151230</th>\n",
       "      <td>-2.75</td>\n",
       "      <td>9.70</td>\n",
       "      <td>...</td>\n",
       "      <td>-2.75</td>\n",
       "      <td>909612.28</td>\n",
       "    </tr>\n",
       "    <tr>\n",
       "      <th>20151231</th>\n",
       "      <td>-0.75</td>\n",
       "      <td>9.75</td>\n",
       "      <td>...</td>\n",
       "      <td>-3.80</td>\n",
       "      <td>909612.30</td>\n",
       "    </tr>\n",
       "  </tbody>\n",
       "</table>\n",
       "<p>20088 rows × 24 columns</p>\n",
       "</div>"
      ],
      "text/plain": [
       "          Albuquerque  Baltimore  ...  Min T     Mean T\n",
       "Date                              ...                  \n",
       "19610101        -0.55       3.35  ...  -4.75  885183.96\n",
       "19610102        -2.50       0.00  ...  -5.00  885182.41\n",
       "19610103        -2.50       0.85  ... -10.80  885181.68\n",
       "...               ...        ...  ...    ...        ...\n",
       "20151229        -2.15       9.45  ...  -2.15  909612.18\n",
       "20151230        -2.75       9.70  ...  -2.75  909612.28\n",
       "20151231        -0.75       9.75  ...  -3.80  909612.30\n",
       "\n",
       "[20088 rows x 24 columns]"
      ]
     },
     "execution_count": 126,
     "metadata": {},
     "output_type": "execute_result"
    }
   ],
   "source": [
    "temperatures"
   ]
  },
  {
   "cell_type": "code",
   "execution_count": 134,
   "id": "built-youth",
   "metadata": {
    "scrolled": false
   },
   "outputs": [
    {
     "ename": "KeyError",
     "evalue": "\"None of ['Date'] are in the columns\"",
     "output_type": "error",
     "traceback": [
      "\u001b[1;31m---------------------------------------------------------------------------\u001b[0m",
      "\u001b[1;31mKeyError\u001b[0m                                  Traceback (most recent call last)",
      "\u001b[1;32m<ipython-input-134-2ef06f367aaf>\u001b[0m in \u001b[0;36m<module>\u001b[1;34m\u001b[0m\n\u001b[1;32m----> 1\u001b[1;33m \u001b[0mtemperatures\u001b[0m\u001b[1;33m.\u001b[0m\u001b[0mset_index\u001b[0m\u001b[1;33m(\u001b[0m\u001b[1;34m'Date'\u001b[0m\u001b[1;33m,\u001b[0m \u001b[0mdrop\u001b[0m\u001b[1;33m=\u001b[0m\u001b[1;32mTrue\u001b[0m\u001b[1;33m,\u001b[0m \u001b[0minplace\u001b[0m\u001b[1;33m=\u001b[0m\u001b[1;32mTrue\u001b[0m\u001b[1;33m)\u001b[0m\u001b[1;33m\u001b[0m\u001b[1;33m\u001b[0m\u001b[0m\n\u001b[0m\u001b[0;32m      2\u001b[0m \u001b[0mtemperatures\u001b[0m\u001b[1;33m[\u001b[0m\u001b[1;34m'Max'\u001b[0m\u001b[1;33m]\u001b[0m \u001b[1;33m=\u001b[0m \u001b[0mtemperatures\u001b[0m\u001b[1;33m.\u001b[0m\u001b[0mmax\u001b[0m\u001b[1;33m(\u001b[0m\u001b[0maxis\u001b[0m\u001b[1;33m=\u001b[0m\u001b[1;34m'columns'\u001b[0m\u001b[1;33m)\u001b[0m\u001b[1;33m\u001b[0m\u001b[1;33m\u001b[0m\u001b[0m\n\u001b[0;32m      3\u001b[0m \u001b[0mtemperatures\u001b[0m\u001b[1;33m[\u001b[0m\u001b[1;34m'Min'\u001b[0m\u001b[1;33m]\u001b[0m \u001b[1;33m=\u001b[0m \u001b[0mtemperatures\u001b[0m\u001b[1;33m.\u001b[0m\u001b[0mmin\u001b[0m\u001b[1;33m(\u001b[0m\u001b[0maxis\u001b[0m\u001b[1;33m=\u001b[0m\u001b[1;34m'columns'\u001b[0m\u001b[1;33m)\u001b[0m\u001b[1;33m\u001b[0m\u001b[1;33m\u001b[0m\u001b[0m\n\u001b[0;32m      4\u001b[0m \u001b[0mtemperatures\u001b[0m\u001b[1;33m[\u001b[0m\u001b[1;34m'Mean T'\u001b[0m\u001b[1;33m]\u001b[0m \u001b[1;33m=\u001b[0m \u001b[0mround\u001b[0m\u001b[1;33m(\u001b[0m\u001b[0mtemperatures\u001b[0m\u001b[1;33m.\u001b[0m\u001b[0mmean\u001b[0m\u001b[1;33m(\u001b[0m\u001b[0maxis\u001b[0m\u001b[1;33m=\u001b[0m\u001b[1;34m'columns'\u001b[0m\u001b[1;33m)\u001b[0m\u001b[1;33m,\u001b[0m\u001b[1;36m2\u001b[0m\u001b[1;33m)\u001b[0m\u001b[1;33m\u001b[0m\u001b[1;33m\u001b[0m\u001b[0m\n\u001b[0;32m      5\u001b[0m \u001b[0mprint\u001b[0m\u001b[1;33m(\u001b[0m\u001b[0mtemperatures\u001b[0m\u001b[1;33m.\u001b[0m\u001b[0mloc\u001b[0m\u001b[1;33m[\u001b[0m\u001b[0mtemperatures\u001b[0m\u001b[1;33m[\u001b[0m\u001b[1;34m'Date'\u001b[0m\u001b[1;33m]\u001b[0m\u001b[1;33m==\u001b[0m\u001b[1;36m20000704\u001b[0m\u001b[1;33m]\u001b[0m\u001b[1;33m)\u001b[0m\u001b[1;33m\u001b[0m\u001b[1;33m\u001b[0m\u001b[0m\n",
      "\u001b[1;32m~\\miniconda3\\lib\\site-packages\\pandas\\core\\frame.py\u001b[0m in \u001b[0;36mset_index\u001b[1;34m(self, keys, drop, append, inplace, verify_integrity)\u001b[0m\n\u001b[0;32m   4722\u001b[0m \u001b[1;33m\u001b[0m\u001b[0m\n\u001b[0;32m   4723\u001b[0m         \u001b[1;32mif\u001b[0m \u001b[0mmissing\u001b[0m\u001b[1;33m:\u001b[0m\u001b[1;33m\u001b[0m\u001b[1;33m\u001b[0m\u001b[0m\n\u001b[1;32m-> 4724\u001b[1;33m             \u001b[1;32mraise\u001b[0m \u001b[0mKeyError\u001b[0m\u001b[1;33m(\u001b[0m\u001b[1;34mf\"None of {missing} are in the columns\"\u001b[0m\u001b[1;33m)\u001b[0m\u001b[1;33m\u001b[0m\u001b[1;33m\u001b[0m\u001b[0m\n\u001b[0m\u001b[0;32m   4725\u001b[0m \u001b[1;33m\u001b[0m\u001b[0m\n\u001b[0;32m   4726\u001b[0m         \u001b[1;32mif\u001b[0m \u001b[0minplace\u001b[0m\u001b[1;33m:\u001b[0m\u001b[1;33m\u001b[0m\u001b[1;33m\u001b[0m\u001b[0m\n",
      "\u001b[1;31mKeyError\u001b[0m: \"None of ['Date'] are in the columns\""
     ]
    }
   ],
   "source": [
    "temperatures.set_index('Date', drop=True, inplace=True)\n",
    "temperatures['Max'] = temperatures.max(axis='columns')\n",
    "temperatures['Min'] = temperatures.min(axis='columns')\n",
    "temperatures['Mean T'] = round(temperatures.mean(axis='columns'),2)\n",
    "print(temperatures.loc[temperatures['Date']==20000704])"
   ]
  },
  {
   "cell_type": "code",
   "execution_count": 129,
   "id": "statutory-pharmacy",
   "metadata": {
    "scrolled": true
   },
   "outputs": [
    {
     "data": {
      "text/plain": [
       "Text(0, 0.5, 'Degrees C')"
      ]
     },
     "execution_count": 129,
     "metadata": {},
     "output_type": "execute_result"
    },
    {
     "data": {
      "image/png": "[encoded data removed]",
      "text/plain": [
       "<Figure size 1008x216 with 1 Axes>"
      ]
     },
     "metadata": {
      "needs_background": "light"
     },
     "output_type": "display_data"
    }
   ],
   "source": [
    "plt.figure(figsize=(14, 3))\n",
    "plt.plot(list(temperatures['Mean T']))\n",
    "plt.title('Mean Temp Across 21 US Cities')\n",
    "plt.xlabel('Days Since 1/1/1961')\n",
    "plt.ylabel('Degrees C')"
   ]
  },
  {
   "cell_type": "code",
   "execution_count": 130,
   "id": "similar-forestry",
   "metadata": {},
   "outputs": [],
   "source": [
    "def get_dict(temperatures, labels):\n",
    "    '''temperatures a DataFrame. Its indices are ints\n",
    "    representing dates of the form yyyymmdd\n",
    "    labels a list of column labels\n",
    "    returns a dict with strs representing years as keys,\n",
    "    the values dicts with the columns as keys, and \n",
    "    a list of the daily temperatures in that column for \n",
    "    that year as values'''\n",
    "    year_dict = {}\n",
    "    for index, row in temperatures.iterrows():\n",
    "        year = str(index)[0:4]\n",
    "        try:\n",
    "            for col in labels:\n",
    "                year_dict[year][col].append(row[col])\n",
    "        except:\n",
    "            year_dict[year] = {col:[] for col in labels}\n",
    "            for col in labels:\n",
    "                year_dict[year][col].append(row[col])\n",
    "    return year_dict"
   ]
  },
  {
   "cell_type": "code",
   "execution_count": 137,
   "id": "senior-bacon",
   "metadata": {},
   "outputs": [
    {
     "name": "stdout",
     "output_type": "stream",
     "text": [
      "    Year  Min T  Max T  Mean T\n",
      "0   1961 -17.25  38.05   15.64\n",
      "1   1962 -21.65  36.95   15.39\n",
      "2   1963 -24.70  36.10   15.50\n",
      "..   ...    ...    ...     ...\n",
      "52  2013 -15.00  40.55   16.66\n",
      "53  2014 -22.70  40.30   16.85\n",
      "54  2015 -18.80  40.55   17.54\n",
      "\n",
      "[55 rows x 4 columns]\n"
     ]
    }
   ],
   "source": [
    "temperatures = pd.read_csv('US_temperatures.csv')\n",
    "temperatures.set_index('Date', drop=True, inplace=True)\n",
    "temperatures['Mean T'] = round(temperatures.mean(axis='columns'), 2)\n",
    "temperatures['Max T'] = temperatures.max(axis='columns')\n",
    "temperatures['Min T'] = temperatures.min(axis='columns')\n",
    "yearly_dict = get_dict(temperatures, ['Max T', 'Min T', 'Mean T'])\n",
    "years, mins, maxes, means = [], [], [], []\n",
    "for y in yearly_dict:\n",
    "    years.append(y)\n",
    "    mins.append(min(yearly_dict[y]['Min T']))\n",
    "    maxes.append(max(yearly_dict[y]['Max T']))\n",
    "    means.append(round(np.mean(yearly_dict[y]['Mean T']), 2))\n",
    "    \n",
    "yearly_temps = pd.DataFrame({'Year':years, 'Min T':mins,\n",
    "                            'Max T':maxes, 'Mean T':means})\n",
    "print(yearly_temps)"
   ]
  },
  {
   "cell_type": "code",
   "execution_count": 138,
   "id": "major-technician",
   "metadata": {},
   "outputs": [
    {
     "data": {
      "image/png": "[encoded data removed]",
      "text/plain": [
       "<Figure size 432x288 with 1 Axes>"
      ]
     },
     "metadata": {
      "needs_background": "light"
     },
     "output_type": "display_data"
    },
    {
     "data": {
      "image/png": "[encoded data removed]",
      "text/plain": [
       "<Figure size 432x288 with 1 Axes>"
      ]
     },
     "metadata": {
      "needs_background": "light"
     },
     "output_type": "display_data"
    }
   ],
   "source": [
    "plt.figure(0)\n",
    "plt.plot(yearly_temps['Year'], yearly_temps['Mean T'])\n",
    "plt.title('Mean Annual Temp in 21 U.S. Cities')\n",
    "plt.figure(1)\n",
    "plt.plot(yearly_temps['Year'], yearly_temps['Min T'])\n",
    "plt.title('Min Annual Temp in 21 U.S. Cities')\n",
    "for i in range(2):\n",
    "    plt.figure(i)\n",
    "    plt.xticks(range(0, len(yearly_temps), 4),\n",
    "              rotation = 'vertical', size = 'large')\n",
    "    plt.ylabel('Degree C')"
   ]
  },
  {
   "cell_type": "code",
   "execution_count": null,
   "id": "similar-cloud",
   "metadata": {},
   "outputs": [],
   "source": []
  }
 ],
 "metadata": {
  "kernelspec": {
   "display_name": "Python 3",
   "language": "python",
   "name": "python3"
  },
  "language_info": {
   "codemirror_mode": {
    "name": "ipython",
    "version": 3
   },
   "file_extension": ".py",
   "mimetype": "text/x-python",
   "name": "python",
   "nbconvert_exporter": "python",
   "pygments_lexer": "ipython3",
   "version": "3.8.8"
  }
 },
 "nbformat": 4,
 "nbformat_minor": 5
}
