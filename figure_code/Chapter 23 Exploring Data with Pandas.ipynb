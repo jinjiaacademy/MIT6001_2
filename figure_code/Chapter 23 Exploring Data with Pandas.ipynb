{
 "cells": [
  {
   "cell_type": "code",
   "execution_count": 1,
   "id": "surprising-snake",
   "metadata": {},
   "outputs": [],
   "source": [
    "import pandas as pd"
   ]
  },
  {
   "cell_type": "code",
   "execution_count": 2,
   "id": "appropriate-philippines",
   "metadata": {},
   "outputs": [],
   "source": [
    "wwc = pd.read_csv('wwc2019_q-f.csv')"
   ]
  },
  {
   "cell_type": "code",
   "execution_count": 3,
   "id": "considered-runner",
   "metadata": {},
   "outputs": [
    {
     "name": "stdout",
     "output_type": "stream",
     "text": [
      "          Round       Winner  W Goals        Loser  L Goals\n",
      "0      Quarters      England        3       Norway        0\n",
      "1      Quarters          USA        2       France        1\n",
      "2      Quarters  Netherlands        2        Italy        0\n",
      "3      Quarters       Sweden        2      Germany        1\n",
      "4         Semis          USA        2      England        1\n",
      "5         Semis  Netherlands        1       Sweden        0\n",
      "6     3rd Place       Sweden        2      England        1\n",
      "7  Championship          USA        2  Netherlands        0\n"
     ]
    }
   ],
   "source": [
    "print(wwc)"
   ]
  },
  {
   "cell_type": "code",
   "execution_count": 5,
   "id": "welsh-cleanup",
   "metadata": {},
   "outputs": [
    {
     "name": "stdout",
     "output_type": "stream",
     "text": [
      "0\n",
      "1\n",
      "2\n",
      "3\n",
      "4\n",
      "5\n",
      "6\n",
      "7\n"
     ]
    }
   ],
   "source": [
    "for i in wwc.index:\n",
    "    print(i)"
   ]
  },
  {
   "cell_type": "code",
   "execution_count": 6,
   "id": "domestic-compact",
   "metadata": {},
   "outputs": [
    {
     "name": "stdout",
     "output_type": "stream",
     "text": [
      "Round\n",
      "Winner\n",
      "W Goals\n",
      "Loser\n",
      "L Goals\n"
     ]
    }
   ],
   "source": [
    "for c in wwc.columns:\n",
    "    print(c)"
   ]
  },
  {
   "cell_type": "code",
   "execution_count": 7,
   "id": "qualified-depth",
   "metadata": {},
   "outputs": [
    {
     "name": "stdout",
     "output_type": "stream",
     "text": [
      "['Quarters' 'England' 3 'Norway' 0]\n",
      "['Quarters' 'USA' 2 'France' 1]\n",
      "['Quarters' 'Netherlands' 2 'Italy' 0]\n",
      "['Quarters' 'Sweden' 2 'Germany' 1]\n",
      "['Semis' 'USA' 2 'England' 1]\n",
      "['Semis' 'Netherlands' 1 'Sweden' 0]\n",
      "['3rd Place' 'Sweden' 2 'England' 1]\n",
      "['Championship' 'USA' 2 'Netherlands' 0]\n"
     ]
    }
   ],
   "source": [
    "for v in wwc.values:\n",
    "    print(v)"
   ]
  },
  {
   "cell_type": "code",
   "execution_count": 9,
   "id": "hybrid-custody",
   "metadata": {},
   "outputs": [
    {
     "data": {
      "text/plain": [
       "(8, 5)"
      ]
     },
     "execution_count": 9,
     "metadata": {},
     "output_type": "execute_result"
    }
   ],
   "source": [
    "wwc.shape"
   ]
  },
  {
   "cell_type": "code",
   "execution_count": 10,
   "id": "delayed-sister",
   "metadata": {},
   "outputs": [
    {
     "data": {
      "text/html": [
       "<div>\n",
       "<style scoped>\n",
       "    .dataframe tbody tr th:only-of-type {\n",
       "        vertical-align: middle;\n",
       "    }\n",
       "\n",
       "    .dataframe tbody tr th {\n",
       "        vertical-align: top;\n",
       "    }\n",
       "\n",
       "    .dataframe thead th {\n",
       "        text-align: right;\n",
       "    }\n",
       "</style>\n",
       "<table border=\"1\" class=\"dataframe\">\n",
       "  <thead>\n",
       "    <tr style=\"text-align: right;\">\n",
       "      <th></th>\n",
       "    </tr>\n",
       "  </thead>\n",
       "  <tbody>\n",
       "  </tbody>\n",
       "</table>\n",
       "</div>"
      ],
      "text/plain": [
       "Empty DataFrame\n",
       "Columns: []\n",
       "Index: []"
      ]
     },
     "execution_count": 10,
     "metadata": {},
     "output_type": "execute_result"
    }
   ],
   "source": [
    "pd.DataFrame()"
   ]
  },
  {
   "cell_type": "code",
   "execution_count": 11,
   "id": "naval-riding",
   "metadata": {},
   "outputs": [
    {
     "name": "stdout",
     "output_type": "stream",
     "text": [
      "Empty DataFrame\n",
      "Columns: []\n",
      "Index: []\n"
     ]
    }
   ],
   "source": [
    "print(pd.DataFrame())"
   ]
  },
  {
   "cell_type": "code",
   "execution_count": 13,
   "id": "acute-titanium",
   "metadata": {},
   "outputs": [
    {
     "name": "stdout",
     "output_type": "stream",
     "text": [
      "          Round       Winner\n",
      "0         Semis          USA\n",
      "1         Semis  Netherlands\n",
      "2     3rd Place       Sweden\n",
      "3  Championship          USA\n"
     ]
    }
   ],
   "source": [
    "rounds = ['Semis', 'Semis', '3rd Place', 'Championship']\n",
    "teams = ['USA', 'Netherlands', 'Sweden', 'USA']\n",
    "df = pd.DataFrame({'Round':rounds, 'Winner':teams})\n",
    "print(df)"
   ]
  },
  {
   "cell_type": "code",
   "execution_count": 14,
   "id": "forbidden-spiritual",
   "metadata": {},
   "outputs": [],
   "source": [
    "df['W Goals'] = [2, 1, 0, 0]"
   ]
  },
  {
   "cell_type": "code",
   "execution_count": 15,
   "id": "complicated-boutique",
   "metadata": {},
   "outputs": [
    {
     "name": "stdout",
     "output_type": "stream",
     "text": [
      "          Round       Winner  W Goals\n",
      "0         Semis          USA        2\n",
      "1         Semis  Netherlands        1\n",
      "2     3rd Place       Sweden        0\n",
      "3  Championship          USA        0\n"
     ]
    }
   ],
   "source": [
    "print(df)"
   ]
  },
  {
   "cell_type": "code",
   "execution_count": 16,
   "id": "technical-knife",
   "metadata": {},
   "outputs": [
    {
     "name": "stdout",
     "output_type": "stream",
     "text": [
      "          Round  W Goals\n",
      "0         Semis        2\n",
      "1         Semis        1\n",
      "2     3rd Place        0\n",
      "3  Championship        0\n"
     ]
    }
   ],
   "source": [
    "print(df.drop('Winner', axis='columns'))"
   ]
  },
  {
   "cell_type": "code",
   "execution_count": 17,
   "id": "transparent-original",
   "metadata": {},
   "outputs": [
    {
     "name": "stdout",
     "output_type": "stream",
     "text": [
      "          Round       Winner  W Goals\n",
      "0         Semis          USA        2\n",
      "1         Semis  Netherlands        1\n",
      "2     3rd Place       Sweden        0\n",
      "3  Championship          USA        0\n"
     ]
    }
   ],
   "source": [
    "print(df)"
   ]
  },
  {
   "cell_type": "code",
   "execution_count": 21,
   "id": "bearing-imaging",
   "metadata": {},
   "outputs": [
    {
     "name": "stdout",
     "output_type": "stream",
     "text": [
      "          Round       Winner  W Goals\n",
      "0      Quarters      England        3\n",
      "1      Quarters          USA        2\n",
      "2      Quarters   Neterlands        2\n",
      "3      Quarters       Sweden        2\n",
      "0      Quarters      England        3\n",
      "1      Quarters          USA        2\n",
      "2      Quarters   Neterlands        2\n",
      "3      Quarters       Sweden        2\n",
      "0      Quarters      England        3\n",
      "1      Quarters          USA        2\n",
      "2      Quarters   Neterlands        2\n",
      "3      Quarters       Sweden        2\n",
      "0      Quarters      England        3\n",
      "1      Quarters          USA        2\n",
      "2      Quarters   Neterlands        2\n",
      "3      Quarters       Sweden        2\n",
      "0         Semis          USA        2\n",
      "1         Semis  Netherlands        1\n",
      "2     3rd Place       Sweden        0\n",
      "3  Championship          USA        0\n"
     ]
    }
   ],
   "source": [
    "quarters_dict = {'Round':['Quarters']*4,\n",
    "                'Winner':['England', 'USA', 'Neterlands', 'Sweden'],\n",
    "                'W Goals':[3, 2, 2, 2]}\n",
    "df = pd.concat([pd.DataFrame(quarters_dict), df], sort=False)\n",
    "print(df)"
   ]
  },
  {
   "cell_type": "code",
   "execution_count": 22,
   "id": "colonial-employment",
   "metadata": {},
   "outputs": [
    {
     "name": "stdout",
     "output_type": "stream",
     "text": [
      "          Round  W Goals       Winner\n",
      "0      Quarters        3      England\n",
      "1      Quarters        2          USA\n",
      "2      Quarters        2   Neterlands\n",
      "3      Quarters        2       Sweden\n",
      "0      Quarters        3      England\n",
      "1      Quarters        2          USA\n",
      "2      Quarters        2   Neterlands\n",
      "3      Quarters        2       Sweden\n",
      "0      Quarters        3      England\n",
      "1      Quarters        2          USA\n",
      "2      Quarters        2   Neterlands\n",
      "3      Quarters        2       Sweden\n",
      "0      Quarters        3      England\n",
      "1      Quarters        2          USA\n",
      "2      Quarters        2   Neterlands\n",
      "3      Quarters        2       Sweden\n",
      "0      Quarters        3      England\n",
      "1      Quarters        2          USA\n",
      "2      Quarters        2   Neterlands\n",
      "3      Quarters        2       Sweden\n",
      "0         Semis        2          USA\n",
      "1         Semis        1  Netherlands\n",
      "2     3rd Place        0       Sweden\n",
      "3  Championship        0          USA\n"
     ]
    }
   ],
   "source": [
    "quarters_dict = {'Round':['Quarters']*4,\n",
    "                'Winner':['England', 'USA', 'Neterlands', 'Sweden'],\n",
    "                'W Goals':[3, 2, 2, 2]}\n",
    "df = pd.concat([pd.DataFrame(quarters_dict), df], sort=True)\n",
    "print(df)"
   ]
  },
  {
   "cell_type": "code",
   "execution_count": null,
   "id": "capital-venice",
   "metadata": {},
   "outputs": [],
   "source": []
  }
 ],
 "metadata": {
  "kernelspec": {
   "display_name": "Python 3",
   "language": "python",
   "name": "python3"
  },
  "language_info": {
   "codemirror_mode": {
    "name": "ipython",
    "version": 3
   },
   "file_extension": ".py",
   "mimetype": "text/x-python",
   "name": "python",
   "nbconvert_exporter": "python",
   "pygments_lexer": "ipython3",
   "version": "3.8.8"
  }
 },
 "nbformat": 4,
 "nbformat_minor": 5
}
